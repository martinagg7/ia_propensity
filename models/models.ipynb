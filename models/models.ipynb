{
 "cells": [
  {
   "cell_type": "markdown",
   "metadata": {},
   "source": [
    "# Liberias "
   ]
  },
  {
   "cell_type": "code",
   "execution_count": 18,
   "metadata": {},
   "outputs": [],
   "source": [
    "import os\n",
    "import pandas as pd\n",
    "import numpy as np\n",
    "from sklearn.ensemble import RandomForestClassifier\n",
    "from sklearn.model_selection import train_test_split\n",
    "import matplotlib.pyplot as plt\n",
    "import seaborn as sns\n",
    "from IPython.display import display"
   ]
  },
  {
   "cell_type": "code",
   "execution_count": 19,
   "metadata": {},
   "outputs": [],
   "source": [
    "BASE_DIR = os.path.abspath(os.path.join(os.getcwd(), \"..\"))  # Subir un nivel\n",
    "DATA_DIR = os.path.join(BASE_DIR, \"data\", \"processed\") "
   ]
  },
  {
   "cell_type": "code",
   "execution_count": 20,
   "metadata": {},
   "outputs": [
    {
     "name": "stdout",
     "output_type": "stream",
     "text": [
      "\n",
      "🔍 Evaluando importancia de variables en: v1\n"
     ]
    },
    {
     "data": {
      "application/vnd.microsoft.datawrangler.viewer.v0+json": {
       "columns": [
        {
         "name": "index",
         "rawType": "int64",
         "type": "integer"
        },
        {
         "name": "Variable",
         "rawType": "object",
         "type": "string"
        },
        {
         "name": "Importancia",
         "rawType": "float64",
         "type": "float"
        }
       ],
       "conversionMethod": "pd.DataFrame",
       "ref": "1705396d-0bcf-4b3f-a4eb-696585b31306",
       "rows": [
        [
         "21",
         "Tiempo",
         "0.7937012929324306"
        ],
        [
         "13",
         "Zona_Renta",
         "0.0920839979182272"
        ],
        [
         "17",
         "COSTE_VENTA",
         "0.032017602502958466"
        ],
        [
         "18",
         "km_anno",
         "0.019135450698725794"
        ],
        [
         "0",
         "PRODUCTO",
         "0.012392771133685655"
        ],
        [
         "1",
         "TIPO_CARROCERIA",
         "0.007483073225928684"
        ],
        [
         "9",
         "PROVINCIA",
         "0.006006221148878163"
        ],
        [
         "10",
         "Campanna1",
         "0.005546867573566045"
        ],
        [
         "15",
         "Averia_grave",
         "0.005017704695110887"
        ],
        [
         "5",
         "FORMA_PAGO",
         "0.004881016645059894"
        ],
        [
         "20",
         "Edad_Cliente",
         "0.0044517238162805565"
        ],
        [
         "19",
         "Revisiones",
         "0.004406598673929152"
        ],
        [
         "16",
         "QUEJA_CAC",
         "0.003131877494180098"
        ],
        [
         "12",
         "Campanna3",
         "0.0023923664897059272"
        ],
        [
         "3",
         "Potencia",
         "0.0014889094560485816"
        ],
        [
         "2",
         "COMBUSTIBLE",
         "0.0010868908551424287"
        ],
        [
         "6",
         "ESTADO_CIVIL",
         "0.0010750936138125863"
        ],
        [
         "14",
         "REV_Garantia",
         "0.0010035456817228715"
        ],
        [
         "7",
         "GENERO",
         "0.0008834903291605017"
        ],
        [
         "8",
         "OcupaciOn",
         "0.0007350622670604793"
        ],
        [
         "11",
         "Campanna2",
         "0.0006498078013325427"
        ],
        [
         "4",
         "TRANS",
         "0.0004286350470528794"
        ]
       ],
       "shape": {
        "columns": 2,
        "rows": 22
       }
      },
      "text/html": [
       "<div>\n",
       "<style scoped>\n",
       "    .dataframe tbody tr th:only-of-type {\n",
       "        vertical-align: middle;\n",
       "    }\n",
       "\n",
       "    .dataframe tbody tr th {\n",
       "        vertical-align: top;\n",
       "    }\n",
       "\n",
       "    .dataframe thead th {\n",
       "        text-align: right;\n",
       "    }\n",
       "</style>\n",
       "<table border=\"1\" class=\"dataframe\">\n",
       "  <thead>\n",
       "    <tr style=\"text-align: right;\">\n",
       "      <th></th>\n",
       "      <th>Variable</th>\n",
       "      <th>Importancia</th>\n",
       "    </tr>\n",
       "  </thead>\n",
       "  <tbody>\n",
       "    <tr>\n",
       "      <th>21</th>\n",
       "      <td>Tiempo</td>\n",
       "      <td>0.793701</td>\n",
       "    </tr>\n",
       "    <tr>\n",
       "      <th>13</th>\n",
       "      <td>Zona_Renta</td>\n",
       "      <td>0.092084</td>\n",
       "    </tr>\n",
       "    <tr>\n",
       "      <th>17</th>\n",
       "      <td>COSTE_VENTA</td>\n",
       "      <td>0.032018</td>\n",
       "    </tr>\n",
       "    <tr>\n",
       "      <th>18</th>\n",
       "      <td>km_anno</td>\n",
       "      <td>0.019135</td>\n",
       "    </tr>\n",
       "    <tr>\n",
       "      <th>0</th>\n",
       "      <td>PRODUCTO</td>\n",
       "      <td>0.012393</td>\n",
       "    </tr>\n",
       "    <tr>\n",
       "      <th>1</th>\n",
       "      <td>TIPO_CARROCERIA</td>\n",
       "      <td>0.007483</td>\n",
       "    </tr>\n",
       "    <tr>\n",
       "      <th>9</th>\n",
       "      <td>PROVINCIA</td>\n",
       "      <td>0.006006</td>\n",
       "    </tr>\n",
       "    <tr>\n",
       "      <th>10</th>\n",
       "      <td>Campanna1</td>\n",
       "      <td>0.005547</td>\n",
       "    </tr>\n",
       "    <tr>\n",
       "      <th>15</th>\n",
       "      <td>Averia_grave</td>\n",
       "      <td>0.005018</td>\n",
       "    </tr>\n",
       "    <tr>\n",
       "      <th>5</th>\n",
       "      <td>FORMA_PAGO</td>\n",
       "      <td>0.004881</td>\n",
       "    </tr>\n",
       "    <tr>\n",
       "      <th>20</th>\n",
       "      <td>Edad_Cliente</td>\n",
       "      <td>0.004452</td>\n",
       "    </tr>\n",
       "    <tr>\n",
       "      <th>19</th>\n",
       "      <td>Revisiones</td>\n",
       "      <td>0.004407</td>\n",
       "    </tr>\n",
       "    <tr>\n",
       "      <th>16</th>\n",
       "      <td>QUEJA_CAC</td>\n",
       "      <td>0.003132</td>\n",
       "    </tr>\n",
       "    <tr>\n",
       "      <th>12</th>\n",
       "      <td>Campanna3</td>\n",
       "      <td>0.002392</td>\n",
       "    </tr>\n",
       "    <tr>\n",
       "      <th>3</th>\n",
       "      <td>Potencia</td>\n",
       "      <td>0.001489</td>\n",
       "    </tr>\n",
       "    <tr>\n",
       "      <th>2</th>\n",
       "      <td>COMBUSTIBLE</td>\n",
       "      <td>0.001087</td>\n",
       "    </tr>\n",
       "    <tr>\n",
       "      <th>6</th>\n",
       "      <td>ESTADO_CIVIL</td>\n",
       "      <td>0.001075</td>\n",
       "    </tr>\n",
       "    <tr>\n",
       "      <th>14</th>\n",
       "      <td>REV_Garantia</td>\n",
       "      <td>0.001004</td>\n",
       "    </tr>\n",
       "    <tr>\n",
       "      <th>7</th>\n",
       "      <td>GENERO</td>\n",
       "      <td>0.000883</td>\n",
       "    </tr>\n",
       "    <tr>\n",
       "      <th>8</th>\n",
       "      <td>OcupaciOn</td>\n",
       "      <td>0.000735</td>\n",
       "    </tr>\n",
       "    <tr>\n",
       "      <th>11</th>\n",
       "      <td>Campanna2</td>\n",
       "      <td>0.000650</td>\n",
       "    </tr>\n",
       "    <tr>\n",
       "      <th>4</th>\n",
       "      <td>TRANS</td>\n",
       "      <td>0.000429</td>\n",
       "    </tr>\n",
       "  </tbody>\n",
       "</table>\n",
       "</div>"
      ],
      "text/plain": [
       "           Variable  Importancia\n",
       "21           Tiempo     0.793701\n",
       "13       Zona_Renta     0.092084\n",
       "17      COSTE_VENTA     0.032018\n",
       "18          km_anno     0.019135\n",
       "0          PRODUCTO     0.012393\n",
       "1   TIPO_CARROCERIA     0.007483\n",
       "9         PROVINCIA     0.006006\n",
       "10        Campanna1     0.005547\n",
       "15     Averia_grave     0.005018\n",
       "5        FORMA_PAGO     0.004881\n",
       "20     Edad_Cliente     0.004452\n",
       "19       Revisiones     0.004407\n",
       "16        QUEJA_CAC     0.003132\n",
       "12        Campanna3     0.002392\n",
       "3          Potencia     0.001489\n",
       "2       COMBUSTIBLE     0.001087\n",
       "6      ESTADO_CIVIL     0.001075\n",
       "14     REV_Garantia     0.001004\n",
       "7            GENERO     0.000883\n",
       "8         OcupaciOn     0.000735\n",
       "11        Campanna2     0.000650\n",
       "4             TRANS     0.000429"
      ]
     },
     "metadata": {},
     "output_type": "display_data"
    },
    {
     "data": {
      "image/png": "[encoded data removed]",
      "text/plain": [
       "<Figure size 1000x600 with 1 Axes>"
      ]
     },
     "metadata": {},
     "output_type": "display_data"
    },
    {
     "name": "stdout",
     "output_type": "stream",
     "text": [
      "\n",
      "🔍 Evaluando importancia de variables en: v2\n"
     ]
    },
    {
     "data": {
      "application/vnd.microsoft.datawrangler.viewer.v0+json": {
       "columns": [
        {
         "name": "index",
         "rawType": "int64",
         "type": "integer"
        },
        {
         "name": "Variable",
         "rawType": "object",
         "type": "string"
        },
        {
         "name": "Importancia",
         "rawType": "float64",
         "type": "float"
        }
       ],
       "conversionMethod": "pd.DataFrame",
       "ref": "a0cd2194-4462-4829-8ee6-8685413835d9",
       "rows": [
        [
         "21",
         "Tiempo",
         "0.8066939194621201"
        ],
        [
         "13",
         "Zona_Renta",
         "0.08264077760738528"
        ],
        [
         "17",
         "COSTE_VENTA",
         "0.033894077396341135"
        ],
        [
         "18",
         "km_anno",
         "0.023683242655739106"
        ],
        [
         "0",
         "PRODUCTO",
         "0.010269536222888672"
        ],
        [
         "1",
         "TIPO_CARROCERIA",
         "0.005609627000787991"
        ],
        [
         "10",
         "Campanna1",
         "0.0055349446637758554"
        ],
        [
         "9",
         "PROVINCIA",
         "0.004975904054112163"
        ],
        [
         "5",
         "FORMA_PAGO",
         "0.004793779606206317"
        ],
        [
         "19",
         "Revisiones",
         "0.004143311666856186"
        ],
        [
         "20",
         "Edad_Cliente",
         "0.003884942171975833"
        ],
        [
         "15",
         "Averia_grave",
         "0.003591379643588092"
        ],
        [
         "12",
         "Campanna3",
         "0.002200242048167808"
        ],
        [
         "16",
         "QUEJA_CAC",
         "0.0017226102498231629"
        ],
        [
         "14",
         "REV_Garantia",
         "0.0011235187083714863"
        ],
        [
         "3",
         "Potencia",
         "0.0011201595371196642"
        ],
        [
         "6",
         "ESTADO_CIVIL",
         "0.0009642172801215864"
        ],
        [
         "2",
         "COMBUSTIBLE",
         "0.000894297968434755"
        ],
        [
         "7",
         "GENERO",
         "0.0007138190498629952"
        ],
        [
         "8",
         "OcupaciOn",
         "0.000631729044480755"
        ],
        [
         "11",
         "Campanna2",
         "0.0004906790190686108"
        ],
        [
         "4",
         "TRANS",
         "0.0004232849427724428"
        ]
       ],
       "shape": {
        "columns": 2,
        "rows": 22
       }
      },
      "text/html": [
       "<div>\n",
       "<style scoped>\n",
       "    .dataframe tbody tr th:only-of-type {\n",
       "        vertical-align: middle;\n",
       "    }\n",
       "\n",
       "    .dataframe tbody tr th {\n",
       "        vertical-align: top;\n",
       "    }\n",
       "\n",
       "    .dataframe thead th {\n",
       "        text-align: right;\n",
       "    }\n",
       "</style>\n",
       "<table border=\"1\" class=\"dataframe\">\n",
       "  <thead>\n",
       "    <tr style=\"text-align: right;\">\n",
       "      <th></th>\n",
       "      <th>Variable</th>\n",
       "      <th>Importancia</th>\n",
       "    </tr>\n",
       "  </thead>\n",
       "  <tbody>\n",
       "    <tr>\n",
       "      <th>21</th>\n",
       "      <td>Tiempo</td>\n",
       "      <td>0.806694</td>\n",
       "    </tr>\n",
       "    <tr>\n",
       "      <th>13</th>\n",
       "      <td>Zona_Renta</td>\n",
       "      <td>0.082641</td>\n",
       "    </tr>\n",
       "    <tr>\n",
       "      <th>17</th>\n",
       "      <td>COSTE_VENTA</td>\n",
       "      <td>0.033894</td>\n",
       "    </tr>\n",
       "    <tr>\n",
       "      <th>18</th>\n",
       "      <td>km_anno</td>\n",
       "      <td>0.023683</td>\n",
       "    </tr>\n",
       "    <tr>\n",
       "      <th>0</th>\n",
       "      <td>PRODUCTO</td>\n",
       "      <td>0.010270</td>\n",
       "    </tr>\n",
       "    <tr>\n",
       "      <th>1</th>\n",
       "      <td>TIPO_CARROCERIA</td>\n",
       "      <td>0.005610</td>\n",
       "    </tr>\n",
       "    <tr>\n",
       "      <th>10</th>\n",
       "      <td>Campanna1</td>\n",
       "      <td>0.005535</td>\n",
       "    </tr>\n",
       "    <tr>\n",
       "      <th>9</th>\n",
       "      <td>PROVINCIA</td>\n",
       "      <td>0.004976</td>\n",
       "    </tr>\n",
       "    <tr>\n",
       "      <th>5</th>\n",
       "      <td>FORMA_PAGO</td>\n",
       "      <td>0.004794</td>\n",
       "    </tr>\n",
       "    <tr>\n",
       "      <th>19</th>\n",
       "      <td>Revisiones</td>\n",
       "      <td>0.004143</td>\n",
       "    </tr>\n",
       "    <tr>\n",
       "      <th>20</th>\n",
       "      <td>Edad_Cliente</td>\n",
       "      <td>0.003885</td>\n",
       "    </tr>\n",
       "    <tr>\n",
       "      <th>15</th>\n",
       "      <td>Averia_grave</td>\n",
       "      <td>0.003591</td>\n",
       "    </tr>\n",
       "    <tr>\n",
       "      <th>12</th>\n",
       "      <td>Campanna3</td>\n",
       "      <td>0.002200</td>\n",
       "    </tr>\n",
       "    <tr>\n",
       "      <th>16</th>\n",
       "      <td>QUEJA_CAC</td>\n",
       "      <td>0.001723</td>\n",
       "    </tr>\n",
       "    <tr>\n",
       "      <th>14</th>\n",
       "      <td>REV_Garantia</td>\n",
       "      <td>0.001124</td>\n",
       "    </tr>\n",
       "    <tr>\n",
       "      <th>3</th>\n",
       "      <td>Potencia</td>\n",
       "      <td>0.001120</td>\n",
       "    </tr>\n",
       "    <tr>\n",
       "      <th>6</th>\n",
       "      <td>ESTADO_CIVIL</td>\n",
       "      <td>0.000964</td>\n",
       "    </tr>\n",
       "    <tr>\n",
       "      <th>2</th>\n",
       "      <td>COMBUSTIBLE</td>\n",
       "      <td>0.000894</td>\n",
       "    </tr>\n",
       "    <tr>\n",
       "      <th>7</th>\n",
       "      <td>GENERO</td>\n",
       "      <td>0.000714</td>\n",
       "    </tr>\n",
       "    <tr>\n",
       "      <th>8</th>\n",
       "      <td>OcupaciOn</td>\n",
       "      <td>0.000632</td>\n",
       "    </tr>\n",
       "    <tr>\n",
       "      <th>11</th>\n",
       "      <td>Campanna2</td>\n",
       "      <td>0.000491</td>\n",
       "    </tr>\n",
       "    <tr>\n",
       "      <th>4</th>\n",
       "      <td>TRANS</td>\n",
       "      <td>0.000423</td>\n",
       "    </tr>\n",
       "  </tbody>\n",
       "</table>\n",
       "</div>"
      ],
      "text/plain": [
       "           Variable  Importancia\n",
       "21           Tiempo     0.806694\n",
       "13       Zona_Renta     0.082641\n",
       "17      COSTE_VENTA     0.033894\n",
       "18          km_anno     0.023683\n",
       "0          PRODUCTO     0.010270\n",
       "1   TIPO_CARROCERIA     0.005610\n",
       "10        Campanna1     0.005535\n",
       "9         PROVINCIA     0.004976\n",
       "5        FORMA_PAGO     0.004794\n",
       "19       Revisiones     0.004143\n",
       "20     Edad_Cliente     0.003885\n",
       "15     Averia_grave     0.003591\n",
       "12        Campanna3     0.002200\n",
       "16        QUEJA_CAC     0.001723\n",
       "14     REV_Garantia     0.001124\n",
       "3          Potencia     0.001120\n",
       "6      ESTADO_CIVIL     0.000964\n",
       "2       COMBUSTIBLE     0.000894\n",
       "7            GENERO     0.000714\n",
       "8         OcupaciOn     0.000632\n",
       "11        Campanna2     0.000491\n",
       "4             TRANS     0.000423"
      ]
     },
     "metadata": {},
     "output_type": "display_data"
    },
    {
     "data": {
      "image/png": "[encoded data removed]",
      "text/plain": [
       "<Figure size 1000x600 with 1 Axes>"
      ]
     },
     "metadata": {},
     "output_type": "display_data"
    },
    {
     "name": "stdout",
     "output_type": "stream",
     "text": [
      "\n",
      "🔍 Evaluando importancia de variables en: v3\n"
     ]
    },
    {
     "data": {
      "application/vnd.microsoft.datawrangler.viewer.v0+json": {
       "columns": [
        {
         "name": "index",
         "rawType": "int64",
         "type": "integer"
        },
        {
         "name": "Variable",
         "rawType": "object",
         "type": "string"
        },
        {
         "name": "Importancia",
         "rawType": "float64",
         "type": "float"
        }
       ],
       "conversionMethod": "pd.DataFrame",
       "ref": "76c836b2-c41c-486e-b3de-135fb525a86a",
       "rows": [
        [
         "21",
         "Tiempo",
         "0.8464393893363282"
        ],
        [
         "17",
         "COSTE_VENTA",
         "0.03840933772636036"
        ],
        [
         "13",
         "Zona_Renta",
         "0.036536514665119174"
        ],
        [
         "18",
         "km_anno",
         "0.025661186114633753"
        ],
        [
         "0",
         "PRODUCTO",
         "0.009885238307232994"
        ],
        [
         "5",
         "FORMA_PAGO",
         "0.00593128214243847"
        ],
        [
         "10",
         "Campanna1",
         "0.0055446813394125875"
        ],
        [
         "19",
         "Revisiones",
         "0.00525508441509798"
        ],
        [
         "9",
         "PROVINCIA",
         "0.004783848261935987"
        ],
        [
         "1",
         "TIPO_CARROCERIA",
         "0.004193797569735266"
        ],
        [
         "20",
         "Edad_Cliente",
         "0.004052158031545724"
        ],
        [
         "12",
         "Campanna3",
         "0.0027961038016752087"
        ],
        [
         "15",
         "Averia_grave",
         "0.0025669991308105797"
        ],
        [
         "14",
         "REV_Garantia",
         "0.0015793323065687987"
        ],
        [
         "16",
         "QUEJA_CAC",
         "0.001158012358296085"
        ],
        [
         "2",
         "COMBUSTIBLE",
         "0.0009959955330710842"
        ],
        [
         "3",
         "Potencia",
         "0.000972359319361506"
        ],
        [
         "6",
         "ESTADO_CIVIL",
         "0.0009454449304295926"
        ],
        [
         "7",
         "GENERO",
         "0.000720825972599995"
        ],
        [
         "8",
         "OcupaciOn",
         "0.0006464979928861263"
        ],
        [
         "11",
         "Campanna2",
         "0.000551608190828884"
        ],
        [
         "4",
         "TRANS",
         "0.000374302553631716"
        ]
       ],
       "shape": {
        "columns": 2,
        "rows": 22
       }
      },
      "text/html": [
       "<div>\n",
       "<style scoped>\n",
       "    .dataframe tbody tr th:only-of-type {\n",
       "        vertical-align: middle;\n",
       "    }\n",
       "\n",
       "    .dataframe tbody tr th {\n",
       "        vertical-align: top;\n",
       "    }\n",
       "\n",
       "    .dataframe thead th {\n",
       "        text-align: right;\n",
       "    }\n",
       "</style>\n",
       "<table border=\"1\" class=\"dataframe\">\n",
       "  <thead>\n",
       "    <tr style=\"text-align: right;\">\n",
       "      <th></th>\n",
       "      <th>Variable</th>\n",
       "      <th>Importancia</th>\n",
       "    </tr>\n",
       "  </thead>\n",
       "  <tbody>\n",
       "    <tr>\n",
       "      <th>21</th>\n",
       "      <td>Tiempo</td>\n",
       "      <td>0.846439</td>\n",
       "    </tr>\n",
       "    <tr>\n",
       "      <th>17</th>\n",
       "      <td>COSTE_VENTA</td>\n",
       "      <td>0.038409</td>\n",
       "    </tr>\n",
       "    <tr>\n",
       "      <th>13</th>\n",
       "      <td>Zona_Renta</td>\n",
       "      <td>0.036537</td>\n",
       "    </tr>\n",
       "    <tr>\n",
       "      <th>18</th>\n",
       "      <td>km_anno</td>\n",
       "      <td>0.025661</td>\n",
       "    </tr>\n",
       "    <tr>\n",
       "      <th>0</th>\n",
       "      <td>PRODUCTO</td>\n",
       "      <td>0.009885</td>\n",
       "    </tr>\n",
       "    <tr>\n",
       "      <th>5</th>\n",
       "      <td>FORMA_PAGO</td>\n",
       "      <td>0.005931</td>\n",
       "    </tr>\n",
       "    <tr>\n",
       "      <th>10</th>\n",
       "      <td>Campanna1</td>\n",
       "      <td>0.005545</td>\n",
       "    </tr>\n",
       "    <tr>\n",
       "      <th>19</th>\n",
       "      <td>Revisiones</td>\n",
       "      <td>0.005255</td>\n",
       "    </tr>\n",
       "    <tr>\n",
       "      <th>9</th>\n",
       "      <td>PROVINCIA</td>\n",
       "      <td>0.004784</td>\n",
       "    </tr>\n",
       "    <tr>\n",
       "      <th>1</th>\n",
       "      <td>TIPO_CARROCERIA</td>\n",
       "      <td>0.004194</td>\n",
       "    </tr>\n",
       "    <tr>\n",
       "      <th>20</th>\n",
       "      <td>Edad_Cliente</td>\n",
       "      <td>0.004052</td>\n",
       "    </tr>\n",
       "    <tr>\n",
       "      <th>12</th>\n",
       "      <td>Campanna3</td>\n",
       "      <td>0.002796</td>\n",
       "    </tr>\n",
       "    <tr>\n",
       "      <th>15</th>\n",
       "      <td>Averia_grave</td>\n",
       "      <td>0.002567</td>\n",
       "    </tr>\n",
       "    <tr>\n",
       "      <th>14</th>\n",
       "      <td>REV_Garantia</td>\n",
       "      <td>0.001579</td>\n",
       "    </tr>\n",
       "    <tr>\n",
       "      <th>16</th>\n",
       "      <td>QUEJA_CAC</td>\n",
       "      <td>0.001158</td>\n",
       "    </tr>\n",
       "    <tr>\n",
       "      <th>2</th>\n",
       "      <td>COMBUSTIBLE</td>\n",
       "      <td>0.000996</td>\n",
       "    </tr>\n",
       "    <tr>\n",
       "      <th>3</th>\n",
       "      <td>Potencia</td>\n",
       "      <td>0.000972</td>\n",
       "    </tr>\n",
       "    <tr>\n",
       "      <th>6</th>\n",
       "      <td>ESTADO_CIVIL</td>\n",
       "      <td>0.000945</td>\n",
       "    </tr>\n",
       "    <tr>\n",
       "      <th>7</th>\n",
       "      <td>GENERO</td>\n",
       "      <td>0.000721</td>\n",
       "    </tr>\n",
       "    <tr>\n",
       "      <th>8</th>\n",
       "      <td>OcupaciOn</td>\n",
       "      <td>0.000646</td>\n",
       "    </tr>\n",
       "    <tr>\n",
       "      <th>11</th>\n",
       "      <td>Campanna2</td>\n",
       "      <td>0.000552</td>\n",
       "    </tr>\n",
       "    <tr>\n",
       "      <th>4</th>\n",
       "      <td>TRANS</td>\n",
       "      <td>0.000374</td>\n",
       "    </tr>\n",
       "  </tbody>\n",
       "</table>\n",
       "</div>"
      ],
      "text/plain": [
       "           Variable  Importancia\n",
       "21           Tiempo     0.846439\n",
       "17      COSTE_VENTA     0.038409\n",
       "13       Zona_Renta     0.036537\n",
       "18          km_anno     0.025661\n",
       "0          PRODUCTO     0.009885\n",
       "5        FORMA_PAGO     0.005931\n",
       "10        Campanna1     0.005545\n",
       "19       Revisiones     0.005255\n",
       "9         PROVINCIA     0.004784\n",
       "1   TIPO_CARROCERIA     0.004194\n",
       "20     Edad_Cliente     0.004052\n",
       "12        Campanna3     0.002796\n",
       "15     Averia_grave     0.002567\n",
       "14     REV_Garantia     0.001579\n",
       "16        QUEJA_CAC     0.001158\n",
       "2       COMBUSTIBLE     0.000996\n",
       "3          Potencia     0.000972\n",
       "6      ESTADO_CIVIL     0.000945\n",
       "7            GENERO     0.000721\n",
       "8         OcupaciOn     0.000646\n",
       "11        Campanna2     0.000552\n",
       "4             TRANS     0.000374"
      ]
     },
     "metadata": {},
     "output_type": "display_data"
    },
    {
     "data": {
      "image/png": "[encoded data removed]",
      "text/plain": [
       "<Figure size 1000x600 with 1 Axes>"
      ]
     },
     "metadata": {},
     "output_type": "display_data"
    },
    {
     "name": "stdout",
     "output_type": "stream",
     "text": [
      "\n",
      "🔍 Evaluando importancia de variables en: v4\n"
     ]
    },
    {
     "data": {
      "application/vnd.microsoft.datawrangler.viewer.v0+json": {
       "columns": [
        {
         "name": "index",
         "rawType": "int64",
         "type": "integer"
        },
        {
         "name": "Variable",
         "rawType": "object",
         "type": "string"
        },
        {
         "name": "Importancia",
         "rawType": "float64",
         "type": "float"
        }
       ],
       "conversionMethod": "pd.DataFrame",
       "ref": "368ba03b-a655-4454-b452-4f5bd51cfd9f",
       "rows": [
        [
         "21",
         "Tiempo",
         "0.8388490343024511"
        ],
        [
         "13",
         "Zona_Renta",
         "0.04025847876471612"
        ],
        [
         "17",
         "COSTE_VENTA",
         "0.03759949058222005"
        ],
        [
         "18",
         "km_anno",
         "0.025242806925930446"
        ],
        [
         "0",
         "PRODUCTO",
         "0.010297429648253831"
        ],
        [
         "5",
         "FORMA_PAGO",
         "0.006505717370251655"
        ],
        [
         "19",
         "Revisiones",
         "0.005976319662810678"
        ],
        [
         "10",
         "Campanna1",
         "0.005543175615426918"
        ],
        [
         "9",
         "PROVINCIA",
         "0.005488275756800381"
        ],
        [
         "20",
         "Edad_Cliente",
         "0.0045954843180766"
        ],
        [
         "1",
         "TIPO_CARROCERIA",
         "0.004323281981274126"
        ],
        [
         "12",
         "Campanna3",
         "0.0033552248192867122"
        ],
        [
         "15",
         "Averia_grave",
         "0.0027634142596459172"
        ],
        [
         "14",
         "REV_Garantia",
         "0.001867804103863618"
        ],
        [
         "16",
         "QUEJA_CAC",
         "0.001325578746630438"
        ],
        [
         "3",
         "Potencia",
         "0.0011168500546980993"
        ],
        [
         "6",
         "ESTADO_CIVIL",
         "0.001084032273953652"
        ],
        [
         "2",
         "COMBUSTIBLE",
         "0.0010358731117808106"
        ],
        [
         "7",
         "GENERO",
         "0.00099965506565007"
        ],
        [
         "8",
         "OcupaciOn",
         "0.0007321900341679442"
        ],
        [
         "11",
         "Campanna2",
         "0.0005738429236906279"
        ],
        [
         "4",
         "TRANS",
         "0.0004660396784202789"
        ]
       ],
       "shape": {
        "columns": 2,
        "rows": 22
       }
      },
      "text/html": [
       "<div>\n",
       "<style scoped>\n",
       "    .dataframe tbody tr th:only-of-type {\n",
       "        vertical-align: middle;\n",
       "    }\n",
       "\n",
       "    .dataframe tbody tr th {\n",
       "        vertical-align: top;\n",
       "    }\n",
       "\n",
       "    .dataframe thead th {\n",
       "        text-align: right;\n",
       "    }\n",
       "</style>\n",
       "<table border=\"1\" class=\"dataframe\">\n",
       "  <thead>\n",
       "    <tr style=\"text-align: right;\">\n",
       "      <th></th>\n",
       "      <th>Variable</th>\n",
       "      <th>Importancia</th>\n",
       "    </tr>\n",
       "  </thead>\n",
       "  <tbody>\n",
       "    <tr>\n",
       "      <th>21</th>\n",
       "      <td>Tiempo</td>\n",
       "      <td>0.838849</td>\n",
       "    </tr>\n",
       "    <tr>\n",
       "      <th>13</th>\n",
       "      <td>Zona_Renta</td>\n",
       "      <td>0.040258</td>\n",
       "    </tr>\n",
       "    <tr>\n",
       "      <th>17</th>\n",
       "      <td>COSTE_VENTA</td>\n",
       "      <td>0.037599</td>\n",
       "    </tr>\n",
       "    <tr>\n",
       "      <th>18</th>\n",
       "      <td>km_anno</td>\n",
       "      <td>0.025243</td>\n",
       "    </tr>\n",
       "    <tr>\n",
       "      <th>0</th>\n",
       "      <td>PRODUCTO</td>\n",
       "      <td>0.010297</td>\n",
       "    </tr>\n",
       "    <tr>\n",
       "      <th>5</th>\n",
       "      <td>FORMA_PAGO</td>\n",
       "      <td>0.006506</td>\n",
       "    </tr>\n",
       "    <tr>\n",
       "      <th>19</th>\n",
       "      <td>Revisiones</td>\n",
       "      <td>0.005976</td>\n",
       "    </tr>\n",
       "    <tr>\n",
       "      <th>10</th>\n",
       "      <td>Campanna1</td>\n",
       "      <td>0.005543</td>\n",
       "    </tr>\n",
       "    <tr>\n",
       "      <th>9</th>\n",
       "      <td>PROVINCIA</td>\n",
       "      <td>0.005488</td>\n",
       "    </tr>\n",
       "    <tr>\n",
       "      <th>20</th>\n",
       "      <td>Edad_Cliente</td>\n",
       "      <td>0.004595</td>\n",
       "    </tr>\n",
       "    <tr>\n",
       "      <th>1</th>\n",
       "      <td>TIPO_CARROCERIA</td>\n",
       "      <td>0.004323</td>\n",
       "    </tr>\n",
       "    <tr>\n",
       "      <th>12</th>\n",
       "      <td>Campanna3</td>\n",
       "      <td>0.003355</td>\n",
       "    </tr>\n",
       "    <tr>\n",
       "      <th>15</th>\n",
       "      <td>Averia_grave</td>\n",
       "      <td>0.002763</td>\n",
       "    </tr>\n",
       "    <tr>\n",
       "      <th>14</th>\n",
       "      <td>REV_Garantia</td>\n",
       "      <td>0.001868</td>\n",
       "    </tr>\n",
       "    <tr>\n",
       "      <th>16</th>\n",
       "      <td>QUEJA_CAC</td>\n",
       "      <td>0.001326</td>\n",
       "    </tr>\n",
       "    <tr>\n",
       "      <th>3</th>\n",
       "      <td>Potencia</td>\n",
       "      <td>0.001117</td>\n",
       "    </tr>\n",
       "    <tr>\n",
       "      <th>6</th>\n",
       "      <td>ESTADO_CIVIL</td>\n",
       "      <td>0.001084</td>\n",
       "    </tr>\n",
       "    <tr>\n",
       "      <th>2</th>\n",
       "      <td>COMBUSTIBLE</td>\n",
       "      <td>0.001036</td>\n",
       "    </tr>\n",
       "    <tr>\n",
       "      <th>7</th>\n",
       "      <td>GENERO</td>\n",
       "      <td>0.001000</td>\n",
       "    </tr>\n",
       "    <tr>\n",
       "      <th>8</th>\n",
       "      <td>OcupaciOn</td>\n",
       "      <td>0.000732</td>\n",
       "    </tr>\n",
       "    <tr>\n",
       "      <th>11</th>\n",
       "      <td>Campanna2</td>\n",
       "      <td>0.000574</td>\n",
       "    </tr>\n",
       "    <tr>\n",
       "      <th>4</th>\n",
       "      <td>TRANS</td>\n",
       "      <td>0.000466</td>\n",
       "    </tr>\n",
       "  </tbody>\n",
       "</table>\n",
       "</div>"
      ],
      "text/plain": [
       "           Variable  Importancia\n",
       "21           Tiempo     0.838849\n",
       "13       Zona_Renta     0.040258\n",
       "17      COSTE_VENTA     0.037599\n",
       "18          km_anno     0.025243\n",
       "0          PRODUCTO     0.010297\n",
       "5        FORMA_PAGO     0.006506\n",
       "19       Revisiones     0.005976\n",
       "10        Campanna1     0.005543\n",
       "9         PROVINCIA     0.005488\n",
       "20     Edad_Cliente     0.004595\n",
       "1   TIPO_CARROCERIA     0.004323\n",
       "12        Campanna3     0.003355\n",
       "15     Averia_grave     0.002763\n",
       "14     REV_Garantia     0.001868\n",
       "16        QUEJA_CAC     0.001326\n",
       "3          Potencia     0.001117\n",
       "6      ESTADO_CIVIL     0.001084\n",
       "2       COMBUSTIBLE     0.001036\n",
       "7            GENERO     0.001000\n",
       "8         OcupaciOn     0.000732\n",
       "11        Campanna2     0.000574\n",
       "4             TRANS     0.000466"
      ]
     },
     "metadata": {},
     "output_type": "display_data"
    },
    {
     "data": {
      "image/png": "[encoded data removed]",
      "text/plain": [
       "<Figure size 1000x600 with 1 Axes>"
      ]
     },
     "metadata": {},
     "output_type": "display_data"
    }
   ],
   "source": [
    "def evaluar_importancia_variables(data_dir):\n",
    "    \"\"\"\n",
    "    Carga cada archivo CSV en la carpeta `data/processed`, entrena un Random Forest\n",
    "    y calcula la importancia de las variables.\n",
    "    \n",
    "    Parámetros:\n",
    "    - data_dir (str): Ruta a la carpeta donde están los archivos CSV.\n",
    "\n",
    "    Retorna:\n",
    "    - Diccionario con la importancia de variables para cada dataset.\n",
    "    \"\"\"\n",
    "    resultados = {}\n",
    "\n",
    "    # Lista de archivos esperados\n",
    "    file_paths = {\n",
    "        \"v1\": os.path.join(data_dir, \"Propensity_clean_v1.csv\"),\n",
    "        \"v2\": os.path.join(data_dir, \"Propensity_clean_v2.csv\"),\n",
    "        \"v3\": os.path.join(data_dir, \"Propensity_clean_v3.csv\"),\n",
    "        \"v4\": os.path.join(data_dir, \"Propensity_clean_v4.csv\"),\n",
    "    }\n",
    "\n",
    "    for version, path in file_paths.items():\n",
    "        print(f\"\\n🔍 Evaluando importancia de variables en: {version}\")\n",
    "\n",
    "        # Cargar los datos\n",
    "        df = pd.read_csv(path)\n",
    "\n",
    "        # Verificar si la columna \"Mas_1_coche\" está presente y eliminar columnas problemáticas\n",
    "        if \"Mas_1_coche\" in df.columns:\n",
    "            y = df[\"Mas_1_coche\"]\n",
    "            X = df.drop(columns=[\"Mas_1_coche\"], errors=\"ignore\")\n",
    "        # Eliminar columnas no numéricas si existen\n",
    "        X = X.select_dtypes(include=['number'])\n",
    "\n",
    "        # Dividir en entrenamiento y prueba\n",
    "        X_train, X_test, y_train, y_test = train_test_split(X, y, test_size=0.2, random_state=42)\n",
    "\n",
    "        # Entrenar un Random Forest básico\n",
    "        rf = RandomForestClassifier(n_estimators=100, random_state=42)\n",
    "        rf.fit(X_train, y_train)\n",
    "\n",
    "        # Obtener importancia de variables\n",
    "        importances = rf.feature_importances_\n",
    "        feature_importance_df = pd.DataFrame({\"Variable\": X.columns, \"Importancia\": importances})\n",
    "        feature_importance_df = feature_importance_df.sort_values(by=\"Importancia\", ascending=False)\n",
    "\n",
    "        # Guardar resultados\n",
    "        resultados[version] = feature_importance_df\n",
    "\n",
    "        # Mostrar la tabla de importancia de variables\n",
    "        display(feature_importance_df)\n",
    "\n",
    "        # Graficar la importancia de las variables\n",
    "        plt.figure(figsize=(10, 6))\n",
    "        sns.barplot(x=\"Importancia\", y=\"Variable\", data=feature_importance_df)\n",
    "        plt.title(f\"Importancia de Variables en Random Forest - {version}\")\n",
    "        plt.show()\n",
    "\n",
    "    return resultados\n",
    "\n",
    "\n",
    "# Ejecutar la función con la ruta corregida\n",
    "importancia_variables_resultados = evaluar_importancia_variables(DATA_DIR)\n"
   ]
  },
  {
   "cell_type": "code",
   "execution_count": 21,
   "metadata": {},
   "outputs": [
    {
     "data": {
      "application/vnd.microsoft.datawrangler.viewer.v0+json": {
       "columns": [
        {
         "name": "index",
         "rawType": "int64",
         "type": "integer"
        },
        {
         "name": "Variable",
         "rawType": "object",
         "type": "string"
        },
        {
         "name": "Importancia_v1",
         "rawType": "float64",
         "type": "float"
        },
        {
         "name": "Importancia_v2",
         "rawType": "float64",
         "type": "float"
        },
        {
         "name": "Importancia_v3",
         "rawType": "float64",
         "type": "float"
        },
        {
         "name": "Importancia_v4",
         "rawType": "float64",
         "type": "float"
        }
       ],
       "conversionMethod": "pd.DataFrame",
       "ref": "a568a829-8d9c-4295-a14c-f8a17ca5591a",
       "rows": [
        [
         "19",
         "Tiempo",
         "0.7937012929324306",
         "0.8066939194621201",
         "0.8464393893363282",
         "0.8388490343024511"
        ],
        [
         "20",
         "Zona_Renta",
         "0.0920839979182272",
         "0.08264077760738528",
         "0.036536514665119174",
         "0.04025847876471612"
        ],
        [
         "2",
         "COSTE_VENTA",
         "0.032017602502958466",
         "0.033894077396341135",
         "0.03840933772636036",
         "0.03759949058222005"
        ],
        [
         "21",
         "km_anno",
         "0.019135450698725794",
         "0.023683242655739106",
         "0.025661186114633753",
         "0.025242806925930446"
        ],
        [
         "11",
         "PRODUCTO",
         "0.012392771133685655",
         "0.010269536222888672",
         "0.009885238307232994",
         "0.010297429648253831"
        ],
        [
         "3",
         "Campanna1",
         "0.005546867573566045",
         "0.0055349446637758554",
         "0.0055446813394125875",
         "0.005543175615426918"
        ],
        [
         "8",
         "FORMA_PAGO",
         "0.004881016645059894",
         "0.004793779606206317",
         "0.00593128214243847",
         "0.006505717370251655"
        ],
        [
         "17",
         "TIPO_CARROCERIA",
         "0.007483073225928684",
         "0.005609627000787991",
         "0.004193797569735266",
         "0.004323281981274126"
        ],
        [
         "12",
         "PROVINCIA",
         "0.006006221148878163",
         "0.004975904054112163",
         "0.004783848261935987",
         "0.005488275756800381"
        ],
        [
         "16",
         "Revisiones",
         "0.004406598673929152",
         "0.004143311666856186",
         "0.00525508441509798",
         "0.005976319662810678"
        ],
        [
         "7",
         "Edad_Cliente",
         "0.0044517238162805565",
         "0.003884942171975833",
         "0.004052158031545724",
         "0.0045954843180766"
        ],
        [
         "0",
         "Averia_grave",
         "0.005017704695110887",
         "0.003591379643588092",
         "0.0025669991308105797",
         "0.0027634142596459172"
        ],
        [
         "5",
         "Campanna3",
         "0.0023923664897059272",
         "0.002200242048167808",
         "0.0027961038016752087",
         "0.0033552248192867122"
        ],
        [
         "14",
         "QUEJA_CAC",
         "0.003131877494180098",
         "0.0017226102498231629",
         "0.001158012358296085",
         "0.001325578746630438"
        ],
        [
         "15",
         "REV_Garantia",
         "0.0010035456817228715",
         "0.0011235187083714863",
         "0.0015793323065687987",
         "0.001867804103863618"
        ],
        [
         "13",
         "Potencia",
         "0.0014889094560485816",
         "0.0011201595371196642",
         "0.000972359319361506",
         "0.0011168500546980993"
        ],
        [
         "6",
         "ESTADO_CIVIL",
         "0.0010750936138125863",
         "0.0009642172801215864",
         "0.0009454449304295926",
         "0.001084032273953652"
        ],
        [
         "1",
         "COMBUSTIBLE",
         "0.0010868908551424287",
         "0.000894297968434755",
         "0.0009959955330710842",
         "0.0010358731117808106"
        ],
        [
         "9",
         "GENERO",
         "0.0008834903291605017",
         "0.0007138190498629952",
         "0.000720825972599995",
         "0.00099965506565007"
        ],
        [
         "10",
         "OcupaciOn",
         "0.0007350622670604793",
         "0.000631729044480755",
         "0.0006464979928861263",
         "0.0007321900341679442"
        ],
        [
         "4",
         "Campanna2",
         "0.0006498078013325427",
         "0.0004906790190686108",
         "0.000551608190828884",
         "0.0005738429236906279"
        ],
        [
         "18",
         "TRANS",
         "0.0004286350470528794",
         "0.0004232849427724428",
         "0.000374302553631716",
         "0.0004660396784202789"
        ]
       ],
       "shape": {
        "columns": 5,
        "rows": 22
       }
      },
      "text/html": [
       "<div>\n",
       "<style scoped>\n",
       "    .dataframe tbody tr th:only-of-type {\n",
       "        vertical-align: middle;\n",
       "    }\n",
       "\n",
       "    .dataframe tbody tr th {\n",
       "        vertical-align: top;\n",
       "    }\n",
       "\n",
       "    .dataframe thead th {\n",
       "        text-align: right;\n",
       "    }\n",
       "</style>\n",
       "<table border=\"1\" class=\"dataframe\">\n",
       "  <thead>\n",
       "    <tr style=\"text-align: right;\">\n",
       "      <th></th>\n",
       "      <th>Variable</th>\n",
       "      <th>Importancia_v1</th>\n",
       "      <th>Importancia_v2</th>\n",
       "      <th>Importancia_v3</th>\n",
       "      <th>Importancia_v4</th>\n",
       "    </tr>\n",
       "  </thead>\n",
       "  <tbody>\n",
       "    <tr>\n",
       "      <th>19</th>\n",
       "      <td>Tiempo</td>\n",
       "      <td>0.793701</td>\n",
       "      <td>0.806694</td>\n",
       "      <td>0.846439</td>\n",
       "      <td>0.838849</td>\n",
       "    </tr>\n",
       "    <tr>\n",
       "      <th>20</th>\n",
       "      <td>Zona_Renta</td>\n",
       "      <td>0.092084</td>\n",
       "      <td>0.082641</td>\n",
       "      <td>0.036537</td>\n",
       "      <td>0.040258</td>\n",
       "    </tr>\n",
       "    <tr>\n",
       "      <th>2</th>\n",
       "      <td>COSTE_VENTA</td>\n",
       "      <td>0.032018</td>\n",
       "      <td>0.033894</td>\n",
       "      <td>0.038409</td>\n",
       "      <td>0.037599</td>\n",
       "    </tr>\n",
       "    <tr>\n",
       "      <th>21</th>\n",
       "      <td>km_anno</td>\n",
       "      <td>0.019135</td>\n",
       "      <td>0.023683</td>\n",
       "      <td>0.025661</td>\n",
       "      <td>0.025243</td>\n",
       "    </tr>\n",
       "    <tr>\n",
       "      <th>11</th>\n",
       "      <td>PRODUCTO</td>\n",
       "      <td>0.012393</td>\n",
       "      <td>0.010270</td>\n",
       "      <td>0.009885</td>\n",
       "      <td>0.010297</td>\n",
       "    </tr>\n",
       "    <tr>\n",
       "      <th>3</th>\n",
       "      <td>Campanna1</td>\n",
       "      <td>0.005547</td>\n",
       "      <td>0.005535</td>\n",
       "      <td>0.005545</td>\n",
       "      <td>0.005543</td>\n",
       "    </tr>\n",
       "    <tr>\n",
       "      <th>8</th>\n",
       "      <td>FORMA_PAGO</td>\n",
       "      <td>0.004881</td>\n",
       "      <td>0.004794</td>\n",
       "      <td>0.005931</td>\n",
       "      <td>0.006506</td>\n",
       "    </tr>\n",
       "    <tr>\n",
       "      <th>17</th>\n",
       "      <td>TIPO_CARROCERIA</td>\n",
       "      <td>0.007483</td>\n",
       "      <td>0.005610</td>\n",
       "      <td>0.004194</td>\n",
       "      <td>0.004323</td>\n",
       "    </tr>\n",
       "    <tr>\n",
       "      <th>12</th>\n",
       "      <td>PROVINCIA</td>\n",
       "      <td>0.006006</td>\n",
       "      <td>0.004976</td>\n",
       "      <td>0.004784</td>\n",
       "      <td>0.005488</td>\n",
       "    </tr>\n",
       "    <tr>\n",
       "      <th>16</th>\n",
       "      <td>Revisiones</td>\n",
       "      <td>0.004407</td>\n",
       "      <td>0.004143</td>\n",
       "      <td>0.005255</td>\n",
       "      <td>0.005976</td>\n",
       "    </tr>\n",
       "    <tr>\n",
       "      <th>7</th>\n",
       "      <td>Edad_Cliente</td>\n",
       "      <td>0.004452</td>\n",
       "      <td>0.003885</td>\n",
       "      <td>0.004052</td>\n",
       "      <td>0.004595</td>\n",
       "    </tr>\n",
       "    <tr>\n",
       "      <th>0</th>\n",
       "      <td>Averia_grave</td>\n",
       "      <td>0.005018</td>\n",
       "      <td>0.003591</td>\n",
       "      <td>0.002567</td>\n",
       "      <td>0.002763</td>\n",
       "    </tr>\n",
       "    <tr>\n",
       "      <th>5</th>\n",
       "      <td>Campanna3</td>\n",
       "      <td>0.002392</td>\n",
       "      <td>0.002200</td>\n",
       "      <td>0.002796</td>\n",
       "      <td>0.003355</td>\n",
       "    </tr>\n",
       "    <tr>\n",
       "      <th>14</th>\n",
       "      <td>QUEJA_CAC</td>\n",
       "      <td>0.003132</td>\n",
       "      <td>0.001723</td>\n",
       "      <td>0.001158</td>\n",
       "      <td>0.001326</td>\n",
       "    </tr>\n",
       "    <tr>\n",
       "      <th>15</th>\n",
       "      <td>REV_Garantia</td>\n",
       "      <td>0.001004</td>\n",
       "      <td>0.001124</td>\n",
       "      <td>0.001579</td>\n",
       "      <td>0.001868</td>\n",
       "    </tr>\n",
       "    <tr>\n",
       "      <th>13</th>\n",
       "      <td>Potencia</td>\n",
       "      <td>0.001489</td>\n",
       "      <td>0.001120</td>\n",
       "      <td>0.000972</td>\n",
       "      <td>0.001117</td>\n",
       "    </tr>\n",
       "    <tr>\n",
       "      <th>6</th>\n",
       "      <td>ESTADO_CIVIL</td>\n",
       "      <td>0.001075</td>\n",
       "      <td>0.000964</td>\n",
       "      <td>0.000945</td>\n",
       "      <td>0.001084</td>\n",
       "    </tr>\n",
       "    <tr>\n",
       "      <th>1</th>\n",
       "      <td>COMBUSTIBLE</td>\n",
       "      <td>0.001087</td>\n",
       "      <td>0.000894</td>\n",
       "      <td>0.000996</td>\n",
       "      <td>0.001036</td>\n",
       "    </tr>\n",
       "    <tr>\n",
       "      <th>9</th>\n",
       "      <td>GENERO</td>\n",
       "      <td>0.000883</td>\n",
       "      <td>0.000714</td>\n",
       "      <td>0.000721</td>\n",
       "      <td>0.001000</td>\n",
       "    </tr>\n",
       "    <tr>\n",
       "      <th>10</th>\n",
       "      <td>OcupaciOn</td>\n",
       "      <td>0.000735</td>\n",
       "      <td>0.000632</td>\n",
       "      <td>0.000646</td>\n",
       "      <td>0.000732</td>\n",
       "    </tr>\n",
       "    <tr>\n",
       "      <th>4</th>\n",
       "      <td>Campanna2</td>\n",
       "      <td>0.000650</td>\n",
       "      <td>0.000491</td>\n",
       "      <td>0.000552</td>\n",
       "      <td>0.000574</td>\n",
       "    </tr>\n",
       "    <tr>\n",
       "      <th>18</th>\n",
       "      <td>TRANS</td>\n",
       "      <td>0.000429</td>\n",
       "      <td>0.000423</td>\n",
       "      <td>0.000374</td>\n",
       "      <td>0.000466</td>\n",
       "    </tr>\n",
       "  </tbody>\n",
       "</table>\n",
       "</div>"
      ],
      "text/plain": [
       "           Variable  Importancia_v1  Importancia_v2  Importancia_v3  \\\n",
       "19           Tiempo        0.793701        0.806694        0.846439   \n",
       "20       Zona_Renta        0.092084        0.082641        0.036537   \n",
       "2       COSTE_VENTA        0.032018        0.033894        0.038409   \n",
       "21          km_anno        0.019135        0.023683        0.025661   \n",
       "11         PRODUCTO        0.012393        0.010270        0.009885   \n",
       "3         Campanna1        0.005547        0.005535        0.005545   \n",
       "8        FORMA_PAGO        0.004881        0.004794        0.005931   \n",
       "17  TIPO_CARROCERIA        0.007483        0.005610        0.004194   \n",
       "12        PROVINCIA        0.006006        0.004976        0.004784   \n",
       "16       Revisiones        0.004407        0.004143        0.005255   \n",
       "7      Edad_Cliente        0.004452        0.003885        0.004052   \n",
       "0      Averia_grave        0.005018        0.003591        0.002567   \n",
       "5         Campanna3        0.002392        0.002200        0.002796   \n",
       "14        QUEJA_CAC        0.003132        0.001723        0.001158   \n",
       "15     REV_Garantia        0.001004        0.001124        0.001579   \n",
       "13         Potencia        0.001489        0.001120        0.000972   \n",
       "6      ESTADO_CIVIL        0.001075        0.000964        0.000945   \n",
       "1       COMBUSTIBLE        0.001087        0.000894        0.000996   \n",
       "9            GENERO        0.000883        0.000714        0.000721   \n",
       "10        OcupaciOn        0.000735        0.000632        0.000646   \n",
       "4         Campanna2        0.000650        0.000491        0.000552   \n",
       "18            TRANS        0.000429        0.000423        0.000374   \n",
       "\n",
       "    Importancia_v4  \n",
       "19        0.838849  \n",
       "20        0.040258  \n",
       "2         0.037599  \n",
       "21        0.025243  \n",
       "11        0.010297  \n",
       "3         0.005543  \n",
       "8         0.006506  \n",
       "17        0.004323  \n",
       "12        0.005488  \n",
       "16        0.005976  \n",
       "7         0.004595  \n",
       "0         0.002763  \n",
       "5         0.003355  \n",
       "14        0.001326  \n",
       "15        0.001868  \n",
       "13        0.001117  \n",
       "6         0.001084  \n",
       "1         0.001036  \n",
       "9         0.001000  \n",
       "10        0.000732  \n",
       "4         0.000574  \n",
       "18        0.000466  "
      ]
     },
     "metadata": {},
     "output_type": "display_data"
    }
   ],
   "source": [
    "comparacion_df = pd.DataFrame()\n",
    "\n",
    "for version, df_importance in importancia_variables_resultados.items():\n",
    "    df_importance = df_importance.rename(columns={\"Importancia\": f\"Importancia_{version}\"})\n",
    "    if comparacion_df.empty:\n",
    "        comparacion_df = df_importance\n",
    "    else:\n",
    "        comparacion_df = comparacion_df.merge(df_importance, on=\"Variable\", how=\"outer\")\n",
    "\n",
    "\n",
    "comparacion_df[\"Importancia_Promedio\"] = comparacion_df.drop(columns=[\"Variable\"]).mean(axis=1)\n",
    "\n",
    "# Ordenar de mayor a menor importancia promedio\n",
    "comparacion_df = comparacion_df.sort_values(by=\"Importancia_Promedio\", ascending=False)\n",
    "comparacion_df = comparacion_df.drop(columns=[\"Importancia_Promedio\"])\n",
    "\n",
    "display(comparacion_df)\n"
   ]
  }
 ],
 "metadata": {
  "kernelspec": {
   "display_name": "Python 3",
   "language": "python",
   "name": "python3"
  },
  "language_info": {
   "codemirror_mode": {
    "name": "ipython",
    "version": 3
   },
   "file_extension": ".py",
   "mimetype": "text/x-python",
   "name": "python",
   "nbconvert_exporter": "python",
   "pygments_lexer": "ipython3",
   "version": "3.12.6"
  }
 },
 "nbformat": 4,
 "nbformat_minor": 2
}
