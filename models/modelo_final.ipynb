{
 "cells": [
  {
   "cell_type": "markdown",
   "metadata": {},
   "source": [
    "# Importación librerias"
   ]
  },
  {
   "cell_type": "code",
   "execution_count": 1,
   "metadata": {},
   "outputs": [],
   "source": [
    "import pickle\n",
    "import  os\n",
    "import pandas as pd\n",
    "import numpy as np\n",
    "import matplotlib.pyplot as plt\n",
    "import seaborn as sns\n",
    "from xgboost import XGBClassifier\n",
    "from sklearn.model_selection import train_test_split, cross_val_score\n",
    "from sklearn.metrics import accuracy_score, f1_score, recall_score, precision_score, roc_auc_score, classification_report, confusion_matrix, roc_curve, precision_recall_curve, average_precision_score\n",
    "\n"
   ]
  },
  {
   "cell_type": "markdown",
   "metadata": {},
   "source": [
    "# Carga de Datos"
   ]
  },
  {
   "cell_type": "markdown",
   "metadata": {},
   "source": [
    "Cargamos los distintos Csv que hemos preparado para entrenar los modelos, estos se encuentran en la carpeta `data/processed`"
   ]
  },
  {
   "cell_type": "code",
   "execution_count": 2,
   "metadata": {},
   "outputs": [],
   "source": [
    "BASE_DIR = os.path.abspath(os.path.join(os.getcwd(), \"..\"))\n",
    "DATA_DIR = os.path.join(BASE_DIR, \"data\", \"processed\")\n",
    "file_name = \"Propensity_clean_v1.csv\"  #cambiar si queremosm probar con otras versiones\n",
    "file_path = os.path.join(DATA_DIR, file_name)\n",
    "\n",
    "df = pd.read_csv(file_path)"
   ]
  },
  {
   "cell_type": "code",
   "execution_count": 3,
   "metadata": {},
   "outputs": [
    {
     "name": "stdout",
     "output_type": "stream",
     "text": [
      " Datos cargados correctamente.\n"
     ]
    },
    {
     "data": {
      "application/vnd.microsoft.datawrangler.viewer.v0+json": {
       "columns": [
        {
         "name": "index",
         "rawType": "int64",
         "type": "integer"
        },
        {
         "name": "PRODUCTO",
         "rawType": "int64",
         "type": "integer"
        },
        {
         "name": "TIPO_CARROCERIA",
         "rawType": "int64",
         "type": "integer"
        },
        {
         "name": "COMBUSTIBLE",
         "rawType": "int64",
         "type": "integer"
        },
        {
         "name": "Potencia",
         "rawType": "int64",
         "type": "integer"
        },
        {
         "name": "TRANS",
         "rawType": "int64",
         "type": "integer"
        },
        {
         "name": "FORMA_PAGO",
         "rawType": "int64",
         "type": "integer"
        },
        {
         "name": "ESTADO_CIVIL",
         "rawType": "int64",
         "type": "integer"
        },
        {
         "name": "GENERO",
         "rawType": "int64",
         "type": "integer"
        },
        {
         "name": "OcupaciOn",
         "rawType": "int64",
         "type": "integer"
        },
        {
         "name": "PROVINCIA",
         "rawType": "int64",
         "type": "integer"
        },
        {
         "name": "Campanna1",
         "rawType": "int64",
         "type": "integer"
        },
        {
         "name": "Campanna2",
         "rawType": "int64",
         "type": "integer"
        },
        {
         "name": "Campanna3",
         "rawType": "int64",
         "type": "integer"
        },
        {
         "name": "Zona_Renta",
         "rawType": "int64",
         "type": "integer"
        },
        {
         "name": "REV_Garantia",
         "rawType": "int64",
         "type": "integer"
        },
        {
         "name": "Averia_grave",
         "rawType": "int64",
         "type": "integer"
        },
        {
         "name": "QUEJA_CAC",
         "rawType": "int64",
         "type": "integer"
        },
        {
         "name": "COSTE_VENTA",
         "rawType": "int64",
         "type": "integer"
        },
        {
         "name": "km_anno",
         "rawType": "int64",
         "type": "integer"
        },
        {
         "name": "Mas_1_coche",
         "rawType": "int64",
         "type": "integer"
        },
        {
         "name": "Revisiones",
         "rawType": "int64",
         "type": "integer"
        },
        {
         "name": "Edad_Cliente",
         "rawType": "int64",
         "type": "integer"
        },
        {
         "name": "Tiempo",
         "rawType": "int64",
         "type": "integer"
        }
       ],
       "conversionMethod": "pd.DataFrame",
       "ref": "c91cee4e-962a-4b3e-8ccb-0d3287769dc3",
       "rows": [
        [
         "0",
         "0",
         "0",
         "0",
         "0",
         "1",
         "0",
         "0",
         "1",
         "1",
         "4",
         "1",
         "0",
         "0",
         "1",
         "0",
         "3",
         "1",
         "2892",
         "0",
         "0",
         "2",
         "18",
         "0"
        ],
        [
         "1",
         "0",
         "0",
         "0",
         "0",
         "1",
         "0",
         "0",
         "0",
         "1",
         "46",
         "0",
         "0",
         "0",
         "1",
         "1",
         "0",
         "0",
         "1376",
         "7187",
         "0",
         "2",
         "53",
         "0"
        ],
        [
         "2",
         "0",
         "0",
         "0",
         "0",
         "1",
         "3",
         "0",
         "1",
         "1",
         "29",
         "0",
         "0",
         "0",
         "2",
         "0",
         "0",
         "0",
         "1376",
         "0",
         "1",
         "4",
         "21",
         "3"
        ],
        [
         "3",
         "0",
         "0",
         "0",
         "0",
         "1",
         "2",
         "0",
         "0",
         "1",
         "31",
         "1",
         "0",
         "0",
         "2",
         "1",
         "3",
         "1",
         "2015",
         "7256",
         "1",
         "4",
         "48",
         "5"
        ],
        [
         "4",
         "0",
         "0",
         "0",
         "0",
         "1",
         "2",
         "0",
         "0",
         "2",
         "40",
         "1",
         "0",
         "1",
         "3",
         "0",
         "0",
         "0",
         "1818",
         "0",
         "1",
         "3",
         "21",
         "3"
        ]
       ],
       "shape": {
        "columns": 23,
        "rows": 5
       }
      },
      "text/html": [
       "<div>\n",
       "<style scoped>\n",
       "    .dataframe tbody tr th:only-of-type {\n",
       "        vertical-align: middle;\n",
       "    }\n",
       "\n",
       "    .dataframe tbody tr th {\n",
       "        vertical-align: top;\n",
       "    }\n",
       "\n",
       "    .dataframe thead th {\n",
       "        text-align: right;\n",
       "    }\n",
       "</style>\n",
       "<table border=\"1\" class=\"dataframe\">\n",
       "  <thead>\n",
       "    <tr style=\"text-align: right;\">\n",
       "      <th></th>\n",
       "      <th>PRODUCTO</th>\n",
       "      <th>TIPO_CARROCERIA</th>\n",
       "      <th>COMBUSTIBLE</th>\n",
       "      <th>Potencia</th>\n",
       "      <th>TRANS</th>\n",
       "      <th>FORMA_PAGO</th>\n",
       "      <th>ESTADO_CIVIL</th>\n",
       "      <th>GENERO</th>\n",
       "      <th>OcupaciOn</th>\n",
       "      <th>PROVINCIA</th>\n",
       "      <th>...</th>\n",
       "      <th>Zona_Renta</th>\n",
       "      <th>REV_Garantia</th>\n",
       "      <th>Averia_grave</th>\n",
       "      <th>QUEJA_CAC</th>\n",
       "      <th>COSTE_VENTA</th>\n",
       "      <th>km_anno</th>\n",
       "      <th>Mas_1_coche</th>\n",
       "      <th>Revisiones</th>\n",
       "      <th>Edad_Cliente</th>\n",
       "      <th>Tiempo</th>\n",
       "    </tr>\n",
       "  </thead>\n",
       "  <tbody>\n",
       "    <tr>\n",
       "      <th>0</th>\n",
       "      <td>0</td>\n",
       "      <td>0</td>\n",
       "      <td>0</td>\n",
       "      <td>0</td>\n",
       "      <td>1</td>\n",
       "      <td>0</td>\n",
       "      <td>0</td>\n",
       "      <td>1</td>\n",
       "      <td>1</td>\n",
       "      <td>4</td>\n",
       "      <td>...</td>\n",
       "      <td>1</td>\n",
       "      <td>0</td>\n",
       "      <td>3</td>\n",
       "      <td>1</td>\n",
       "      <td>2892</td>\n",
       "      <td>0</td>\n",
       "      <td>0</td>\n",
       "      <td>2</td>\n",
       "      <td>18</td>\n",
       "      <td>0</td>\n",
       "    </tr>\n",
       "    <tr>\n",
       "      <th>1</th>\n",
       "      <td>0</td>\n",
       "      <td>0</td>\n",
       "      <td>0</td>\n",
       "      <td>0</td>\n",
       "      <td>1</td>\n",
       "      <td>0</td>\n",
       "      <td>0</td>\n",
       "      <td>0</td>\n",
       "      <td>1</td>\n",
       "      <td>46</td>\n",
       "      <td>...</td>\n",
       "      <td>1</td>\n",
       "      <td>1</td>\n",
       "      <td>0</td>\n",
       "      <td>0</td>\n",
       "      <td>1376</td>\n",
       "      <td>7187</td>\n",
       "      <td>0</td>\n",
       "      <td>2</td>\n",
       "      <td>53</td>\n",
       "      <td>0</td>\n",
       "    </tr>\n",
       "    <tr>\n",
       "      <th>2</th>\n",
       "      <td>0</td>\n",
       "      <td>0</td>\n",
       "      <td>0</td>\n",
       "      <td>0</td>\n",
       "      <td>1</td>\n",
       "      <td>3</td>\n",
       "      <td>0</td>\n",
       "      <td>1</td>\n",
       "      <td>1</td>\n",
       "      <td>29</td>\n",
       "      <td>...</td>\n",
       "      <td>2</td>\n",
       "      <td>0</td>\n",
       "      <td>0</td>\n",
       "      <td>0</td>\n",
       "      <td>1376</td>\n",
       "      <td>0</td>\n",
       "      <td>1</td>\n",
       "      <td>4</td>\n",
       "      <td>21</td>\n",
       "      <td>3</td>\n",
       "    </tr>\n",
       "    <tr>\n",
       "      <th>3</th>\n",
       "      <td>0</td>\n",
       "      <td>0</td>\n",
       "      <td>0</td>\n",
       "      <td>0</td>\n",
       "      <td>1</td>\n",
       "      <td>2</td>\n",
       "      <td>0</td>\n",
       "      <td>0</td>\n",
       "      <td>1</td>\n",
       "      <td>31</td>\n",
       "      <td>...</td>\n",
       "      <td>2</td>\n",
       "      <td>1</td>\n",
       "      <td>3</td>\n",
       "      <td>1</td>\n",
       "      <td>2015</td>\n",
       "      <td>7256</td>\n",
       "      <td>1</td>\n",
       "      <td>4</td>\n",
       "      <td>48</td>\n",
       "      <td>5</td>\n",
       "    </tr>\n",
       "    <tr>\n",
       "      <th>4</th>\n",
       "      <td>0</td>\n",
       "      <td>0</td>\n",
       "      <td>0</td>\n",
       "      <td>0</td>\n",
       "      <td>1</td>\n",
       "      <td>2</td>\n",
       "      <td>0</td>\n",
       "      <td>0</td>\n",
       "      <td>2</td>\n",
       "      <td>40</td>\n",
       "      <td>...</td>\n",
       "      <td>3</td>\n",
       "      <td>0</td>\n",
       "      <td>0</td>\n",
       "      <td>0</td>\n",
       "      <td>1818</td>\n",
       "      <td>0</td>\n",
       "      <td>1</td>\n",
       "      <td>3</td>\n",
       "      <td>21</td>\n",
       "      <td>3</td>\n",
       "    </tr>\n",
       "  </tbody>\n",
       "</table>\n",
       "<p>5 rows × 23 columns</p>\n",
       "</div>"
      ],
      "text/plain": [
       "   PRODUCTO  TIPO_CARROCERIA  COMBUSTIBLE  Potencia  TRANS  FORMA_PAGO  \\\n",
       "0         0                0            0         0      1           0   \n",
       "1         0                0            0         0      1           0   \n",
       "2         0                0            0         0      1           3   \n",
       "3         0                0            0         0      1           2   \n",
       "4         0                0            0         0      1           2   \n",
       "\n",
       "   ESTADO_CIVIL  GENERO  OcupaciOn  PROVINCIA  ...  Zona_Renta  REV_Garantia  \\\n",
       "0             0       1          1          4  ...           1             0   \n",
       "1             0       0          1         46  ...           1             1   \n",
       "2             0       1          1         29  ...           2             0   \n",
       "3             0       0          1         31  ...           2             1   \n",
       "4             0       0          2         40  ...           3             0   \n",
       "\n",
       "   Averia_grave  QUEJA_CAC  COSTE_VENTA  km_anno  Mas_1_coche  Revisiones  \\\n",
       "0             3          1         2892        0            0           2   \n",
       "1             0          0         1376     7187            0           2   \n",
       "2             0          0         1376        0            1           4   \n",
       "3             3          1         2015     7256            1           4   \n",
       "4             0          0         1818        0            1           3   \n",
       "\n",
       "   Edad_Cliente  Tiempo  \n",
       "0            18       0  \n",
       "1            53       0  \n",
       "2            21       3  \n",
       "3            48       5  \n",
       "4            21       3  \n",
       "\n",
       "[5 rows x 23 columns]"
      ]
     },
     "execution_count": 3,
     "metadata": {},
     "output_type": "execute_result"
    }
   ],
   "source": [
    "print(\" Datos cargados correctamente.\")\n",
    "df.head() "
   ]
  },
  {
   "cell_type": "markdown",
   "metadata": {},
   "source": [
    "# Entrenamiento modelo"
   ]
  },
  {
   "cell_type": "markdown",
   "metadata": {},
   "source": [
    "## Selección de Hiperparámetros Óptimos"
   ]
  },
  {
   "cell_type": "markdown",
   "metadata": {},
   "source": [
    "Se realizó una búsqueda de hiperparámetros evaluando múltiples combinaciones. Se seleccionó el modelo con **mayor F1-score y accuracy**, obteniendo los valores siguientes valores óptimos que usaremos a continuación en el modelo XGboost.  \n",
    "\n",
    "Esta selección de parámetros se realiza en la sección **modelo**.\n"
   ]
  },
  {
   "cell_type": "markdown",
   "metadata": {},
   "source": [
    "## Entrenamiento del modelo"
   ]
  },
  {
   "cell_type": "code",
   "execution_count": 4,
   "metadata": {},
   "outputs": [],
   "source": [
    "def entrenar_modelo(X_train, y_train):\n",
    "    model = XGBClassifier(\n",
    "    objective=\"binary:logistic\",\n",
    "    eval_metric=\"auc\",\n",
    "    n_estimators=200,\n",
    "    learning_rate=0.1,\n",
    "    max_depth=8,\n",
    "    min_child_weight=3,\n",
    "    gamma=0.3,\n",
    "    subsample=0.8,\n",
    "    colsample_bytree=0.9,\n",
    "    reg_lambda=1.0,  # Regularización L2 (por defecto 1.0)\n",
    "    reg_alpha=0.0,   # Regularización L1 (por defecto 0.0)\n",
    "    random_state=42,\n",
    "    n_jobs=-1\n",
    "    )\n",
    "    model.fit(X_train, y_train)\n",
    "    return model"
   ]
  },
  {
   "cell_type": "markdown",
   "metadata": {},
   "source": [
    "## Metricas Modelo"
   ]
  },
  {
   "cell_type": "code",
   "execution_count": 5,
   "metadata": {},
   "outputs": [],
   "source": [
    "def evaluar_modelo(model, X_train, y_train, X_test, y_test):\n",
    "    y_pred = model.predict(X_test)\n",
    "    y_pred_proba = model.predict_proba(X_test)[:, 1]\n",
    "\n",
    "    accuracy = accuracy_score(y_test, y_pred)\n",
    "    precision = precision_score(y_test, y_pred)\n",
    "    recall = recall_score(y_test, y_pred)\n",
    "    f1 = f1_score(y_test, y_pred)\n",
    "    roc_auc = roc_auc_score(y_test, y_pred_proba)\n",
    "\n",
    "    cv_scores = cross_val_score(model, X_train, y_train, cv=5, scoring=\"roc_auc\", n_jobs=-1)\n",
    "    mean_cv_score = np.mean(cv_scores)\n",
    "\n",
    "    train_score = model.score(X_train, y_train)\n",
    "    \n",
    "    if train_score > 1.5 * mean_cv_score:\n",
    "        overfitting = \"SEVERE OVERFITTING\"\n",
    "    elif train_score > 1.2 * mean_cv_score:\n",
    "        overfitting = \"DANGER\"\n",
    "    elif train_score > 1.1 * mean_cv_score:\n",
    "        overfitting = \"MILD OVERFITTING\"\n",
    "    else:\n",
    "        overfitting = \"OK\"\n",
    "\n",
    "    print(f\"\\nResultados del Modelo:\")\n",
    "    print(f\"Accuracy: {accuracy:.4f}\")\n",
    "    print(f\"Precision: {precision:.4f}\")\n",
    "    print(f\"Recall: {recall:.4f}\")\n",
    "    print(f\"F1 Score: {f1:.4f}\")\n",
    "    print(f\"ROC-AUC Score: {roc_auc:.4f}\")\n",
    "    print(f\"CV Score: {mean_cv_score:.4f}\")\n",
    "    print(f\"Train Score: {train_score:.4f}\")\n",
    "    print(f\"Overfitting: {overfitting}\\n\")\n",
    "\n",
    "    return y_pred, y_pred_proba\n",
    "\n",
    "\n"
   ]
  },
  {
   "cell_type": "markdown",
   "metadata": {},
   "source": [
    "## Graficas y Matriz Confusión"
   ]
  },
  {
   "cell_type": "code",
   "execution_count": 6,
   "metadata": {},
   "outputs": [],
   "source": [
    "def mostrar_classification_report(y_test, y_pred):\n",
    "    print(\"\\n Classification Report:\")\n",
    "    print(classification_report(y_test, y_pred))"
   ]
  },
  {
   "cell_type": "code",
   "execution_count": 7,
   "metadata": {},
   "outputs": [],
   "source": [
    "def plot_roc(y_test, y_pred_proba):\n",
    "    fpr, tpr, _ = roc_curve(y_test, y_pred_proba)\n",
    "\n",
    "    plt.figure(figsize=(8,6))\n",
    "    plt.plot(fpr, tpr, label=f\"ROC Curve (AUC={roc_auc_score(y_test, y_pred_proba):.2f})\", color=\"blue\")\n",
    "    plt.plot([0, 1], [0, 1], linestyle=\"--\", color=\"gray\")\n",
    "    plt.xlabel(\"False Positive Rate\")\n",
    "    plt.ylabel(\"True Positive Rate\")\n",
    "    plt.title(\"Curva ROC - XGBoost\")\n",
    "    plt.legend()\n",
    "    plt.show()\n",
    "    \n",
    "\n",
    "def plot_precision_recall(y_test, y_pred_proba):\n",
    "    precision, recall, _ = precision_recall_curve(y_test, y_pred_proba)\n",
    "    avg_precision = average_precision_score(y_test, y_pred_proba)\n",
    "\n",
    "    plt.figure(figsize=(8,6))\n",
    "    plt.plot(recall, precision, label=f\"Precision-Recall Curve (AP={avg_precision:.2f})\", color=\"blue\")\n",
    "    plt.xlabel(\"Recall\")\n",
    "    plt.ylabel(\"Precision\")\n",
    "    plt.title(\"Curva Precision-Recall - XGBoost\")\n",
    "    plt.legend()\n",
    "    plt.show()\n",
    "\n",
    "    return avg_precision\n",
    "\n",
    "\n",
    "\n",
    "def plot_confusion_matrix(y_test, y_pred):\n",
    "    plt.figure(figsize=(6,5))\n",
    "    sns.heatmap(confusion_matrix(y_test, y_pred), annot=True, fmt='d', cmap='Blues', xticklabels=[\"No Compra\", \"Compra\"], yticklabels=[\"No Compra\", \"Compra\"])\n",
    "    plt.xlabel(\"Predicción\")\n",
    "    plt.ylabel(\"Realidad\")\n",
    "    plt.title(\"Matriz de Confusión - XGBoost\")\n",
    "    plt.show()"
   ]
  },
  {
   "cell_type": "markdown",
   "metadata": {},
   "source": [
    "# Evaluación del Modelo"
   ]
  },
  {
   "cell_type": "markdown",
   "metadata": {},
   "source": [
    "\n",
    "En la sección **resultados**, se evaluará el modelo seleccionado con los distintos archivos CSV ubicados en `data/processed`.  \n",
    "\n",
    "Estos archivos son el resultado de aplicar diferentes tratamientos a los valores nulos y variables categóricas.\n"
   ]
  },
  {
   "cell_type": "markdown",
   "metadata": {},
   "source": [
    "## Propensity_clean_v1.csv"
   ]
  },
  {
   "cell_type": "code",
   "execution_count": 8,
   "metadata": {},
   "outputs": [],
   "source": [
    "df = df.drop(columns=[\"Tiempo\"], errors=\"ignore\")\n",
    "y = df[\"Mas_1_coche\"]\n",
    "X = df.drop(columns=[\"Mas_1_coche\"])"
   ]
  },
  {
   "cell_type": "code",
   "execution_count": 9,
   "metadata": {},
   "outputs": [],
   "source": [
    "from sklearn.model_selection import train_test_split\n",
    "\n",
    "X_train, X_test, y_train, y_test = train_test_split(X, y, test_size=0.2, stratify=y, random_state=42)\n"
   ]
  },
  {
   "cell_type": "code",
   "execution_count": 10,
   "metadata": {},
   "outputs": [],
   "source": [
    "model_1 = entrenar_modelo(X_train, y_train)"
   ]
  },
  {
   "cell_type": "code",
   "execution_count": 11,
   "metadata": {},
   "outputs": [
    {
     "name": "stdout",
     "output_type": "stream",
     "text": [
      "\n",
      "Resultados del Modelo:\n",
      "Accuracy: 0.8411\n",
      "Precision: 0.7743\n",
      "Recall: 0.7379\n",
      "F1 Score: 0.7557\n",
      "ROC-AUC Score: 0.9290\n",
      "CV Score: 0.9281\n",
      "Train Score: 0.9369\n",
      "Overfitting: OK\n",
      "\n"
     ]
    }
   ],
   "source": [
    "y_pred, y_pred_proba = evaluar_modelo(model_1, X_train, y_train, X_test, y_test)\n"
   ]
  },
  {
   "cell_type": "code",
   "execution_count": 12,
   "metadata": {},
   "outputs": [
    {
     "name": "stdout",
     "output_type": "stream",
     "text": [
      "\n",
      " Classification Report:\n",
      "              precision    recall  f1-score   support\n",
      "\n",
      "           0       0.87      0.89      0.88      5886\n",
      "           1       0.77      0.74      0.76      2938\n",
      "\n",
      "    accuracy                           0.84      8824\n",
      "   macro avg       0.82      0.82      0.82      8824\n",
      "weighted avg       0.84      0.84      0.84      8824\n",
      "\n"
     ]
    }
   ],
   "source": [
    "mostrar_classification_report(y_test, y_pred)"
   ]
  },
  {
   "cell_type": "code",
   "execution_count": 13,
   "metadata": {},
   "outputs": [
    {
     "data": {
      "image/png": "[encoded data removed]",
      "text/plain": [
       "<Figure size 800x600 with 1 Axes>"
      ]
     },
     "metadata": {},
     "output_type": "display_data"
    },
    {
     "data": {
      "image/png": "[encoded data removed]",
      "text/plain": [
       "<Figure size 800x600 with 1 Axes>"
      ]
     },
     "metadata": {},
     "output_type": "display_data"
    },
    {
     "data": {
      "image/png": "[encoded data removed]",
      "text/plain": [
       "<Figure size 600x500 with 2 Axes>"
      ]
     },
     "metadata": {},
     "output_type": "display_data"
    }
   ],
   "source": [
    "plot_roc(y_test, y_pred_proba)\n",
    "plot_precision_recall(y_test,y_pred_proba)\n",
    "\n",
    "plot_confusion_matrix(y_test, y_pred)\n",
    "\n"
   ]
  },
  {
   "cell_type": "markdown",
   "metadata": {},
   "source": [
    "# Propen"
   ]
  }
 ],
 "metadata": {
  "kernelspec": {
   "display_name": "Python 3",
   "language": "python",
   "name": "python3"
  },
  "language_info": {
   "codemirror_mode": {
    "name": "ipython",
    "version": 3
   },
   "file_extension": ".py",
   "mimetype": "text/x-python",
   "name": "python",
   "nbconvert_exporter": "python",
   "pygments_lexer": "ipython3",
   "version": "3.12.6"
  }
 },
 "nbformat": 4,
 "nbformat_minor": 2
}
