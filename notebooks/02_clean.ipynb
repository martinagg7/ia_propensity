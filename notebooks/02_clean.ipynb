{
 "cells": [
  {
   "cell_type": "markdown",
   "metadata": {},
   "source": [
    "# Carga Datos y Librerias"
   ]
  },
  {
   "cell_type": "code",
   "execution_count": 1,
   "metadata": {},
   "outputs": [],
   "source": [
    "import pandas as pd\n",
    "import matplotlib.pyplot as plt\n",
    "from sklearn.preprocessing import LabelEncoder\n",
    "from sklearn.preprocessing import OrdinalEncoder\n",
    "import os"
   ]
  },
  {
   "cell_type": "code",
   "execution_count": 2,
   "metadata": {},
   "outputs": [
    {
     "data": {
      "application/vnd.microsoft.datawrangler.viewer.v0+json": {
       "columns": [
        {
         "name": "index",
         "rawType": "int64",
         "type": "integer"
        },
        {
         "name": "CODE",
         "rawType": "object",
         "type": "string"
        },
        {
         "name": "PRODUCTO",
         "rawType": "object",
         "type": "string"
        },
        {
         "name": "TIPO_CARROCERIA",
         "rawType": "object",
         "type": "string"
        },
        {
         "name": "COMBUSTIBLE",
         "rawType": "object",
         "type": "string"
        },
        {
         "name": "Potencia",
         "rawType": "object",
         "type": "string"
        },
        {
         "name": "TRANS",
         "rawType": "object",
         "type": "string"
        },
        {
         "name": "FORMA_PAGO",
         "rawType": "object",
         "type": "string"
        },
        {
         "name": "ESTADO_CIVIL",
         "rawType": "object",
         "type": "string"
        },
        {
         "name": "GENERO",
         "rawType": "object",
         "type": "string"
        },
        {
         "name": "OcupaciOn",
         "rawType": "object",
         "type": "string"
        },
        {
         "name": "PROVINCIA",
         "rawType": "object",
         "type": "string"
        },
        {
         "name": "Campanna1",
         "rawType": "object",
         "type": "string"
        },
        {
         "name": "Campanna2",
         "rawType": "object",
         "type": "string"
        },
        {
         "name": "Campanna3",
         "rawType": "object",
         "type": "string"
        },
        {
         "name": "Zona_Renta",
         "rawType": "object",
         "type": "string"
        },
        {
         "name": "REV_Garantia",
         "rawType": "object",
         "type": "string"
        },
        {
         "name": "Averia_grave",
         "rawType": "object",
         "type": "string"
        },
        {
         "name": "QUEJA_CAC",
         "rawType": "object",
         "type": "string"
        },
        {
         "name": "COSTE_VENTA",
         "rawType": "int64",
         "type": "integer"
        },
        {
         "name": "km_anno",
         "rawType": "int64",
         "type": "integer"
        },
        {
         "name": "Mas_1_coche",
         "rawType": "bool",
         "type": "boolean"
        },
        {
         "name": "Revisiones",
         "rawType": "int64",
         "type": "integer"
        },
        {
         "name": "Edad_Cliente",
         "rawType": "int64",
         "type": "integer"
        },
        {
         "name": "Tiempo",
         "rawType": "int64",
         "type": "integer"
        }
       ],
       "conversionMethod": "pd.DataFrame",
       "ref": "a0b6f76a-5d9c-4031-b998-af93481fc744",
       "rows": [
        [
         "0",
         "CLI1",
         "A",
         "TIPO1",
         "FUEL 1",
         "Baja",
         "M",
         "Contado",
         "CASADO",
         "M",
         "Empresa",
         "Asturias",
         "SI",
         "NO",
         "NO",
         "Medio-Bajo",
         "NO DATA",
         "Averia muy grave",
         "SI",
         "2892",
         "0",
         "False",
         "2",
         "18",
         "0"
        ],
        [
         "1",
         "CLI2",
         "A",
         "TIPO1",
         "FUEL 1",
         "Baja",
         "M",
         "Contado",
         "CASADO",
         "F",
         "Empresa",
         "Toledo",
         "NO",
         "NO",
         "NO",
         "Medio-Bajo",
         "SI",
         "No",
         "NO",
         "1376",
         "7187",
         "False",
         "2",
         "53",
         "0"
        ],
        [
         "2",
         "CLI3",
         "A",
         "TIPO1",
         "FUEL 1",
         "Baja",
         "M",
         "Otros",
         "CASADO",
         "M",
         "Empresa",
         "Lerida",
         "NO",
         "NO",
         "NO",
         "Medio",
         "NO DATA",
         "No",
         "NO",
         "1376",
         "0",
         "True",
         "4",
         "21",
         "3"
        ],
        [
         "3",
         "CLI4",
         "A",
         "TIPO1",
         "FUEL 1",
         "Baja",
         "M",
         "Financiera Marca",
         "CASADO",
         "F",
         "Empresa",
         "Madrid",
         "SI",
         "NO",
         "NO",
         "Medio",
         "SI",
         "Averia muy grave",
         "SI",
         "2015",
         "7256",
         "True",
         "4",
         "48",
         "5"
        ],
        [
         "4",
         "CLI5",
         "A",
         "TIPO1",
         "FUEL 1",
         "Baja",
         "M",
         "Financiera Marca",
         "CASADO",
         "F",
         "Funcionario",
         "Santa Cruz de Tenerife",
         "SI",
         "NO",
         "SI",
         "Alto",
         "NO DATA",
         "No",
         "NO",
         "1818",
         "0",
         "True",
         "3",
         "21",
         "3"
        ]
       ],
       "shape": {
        "columns": 24,
        "rows": 5
       }
      },
      "text/html": [
       "<div>\n",
       "<style scoped>\n",
       "    .dataframe tbody tr th:only-of-type {\n",
       "        vertical-align: middle;\n",
       "    }\n",
       "\n",
       "    .dataframe tbody tr th {\n",
       "        vertical-align: top;\n",
       "    }\n",
       "\n",
       "    .dataframe thead th {\n",
       "        text-align: right;\n",
       "    }\n",
       "</style>\n",
       "<table border=\"1\" class=\"dataframe\">\n",
       "  <thead>\n",
       "    <tr style=\"text-align: right;\">\n",
       "      <th></th>\n",
       "      <th>CODE</th>\n",
       "      <th>PRODUCTO</th>\n",
       "      <th>TIPO_CARROCERIA</th>\n",
       "      <th>COMBUSTIBLE</th>\n",
       "      <th>Potencia</th>\n",
       "      <th>TRANS</th>\n",
       "      <th>FORMA_PAGO</th>\n",
       "      <th>ESTADO_CIVIL</th>\n",
       "      <th>GENERO</th>\n",
       "      <th>OcupaciOn</th>\n",
       "      <th>...</th>\n",
       "      <th>Zona_Renta</th>\n",
       "      <th>REV_Garantia</th>\n",
       "      <th>Averia_grave</th>\n",
       "      <th>QUEJA_CAC</th>\n",
       "      <th>COSTE_VENTA</th>\n",
       "      <th>km_anno</th>\n",
       "      <th>Mas_1_coche</th>\n",
       "      <th>Revisiones</th>\n",
       "      <th>Edad_Cliente</th>\n",
       "      <th>Tiempo</th>\n",
       "    </tr>\n",
       "  </thead>\n",
       "  <tbody>\n",
       "    <tr>\n",
       "      <th>0</th>\n",
       "      <td>CLI1</td>\n",
       "      <td>A</td>\n",
       "      <td>TIPO1</td>\n",
       "      <td>FUEL 1</td>\n",
       "      <td>Baja</td>\n",
       "      <td>M</td>\n",
       "      <td>Contado</td>\n",
       "      <td>CASADO</td>\n",
       "      <td>M</td>\n",
       "      <td>Empresa</td>\n",
       "      <td>...</td>\n",
       "      <td>Medio-Bajo</td>\n",
       "      <td>NO DATA</td>\n",
       "      <td>Averia muy grave</td>\n",
       "      <td>SI</td>\n",
       "      <td>2892</td>\n",
       "      <td>0</td>\n",
       "      <td>False</td>\n",
       "      <td>2</td>\n",
       "      <td>18</td>\n",
       "      <td>0</td>\n",
       "    </tr>\n",
       "    <tr>\n",
       "      <th>1</th>\n",
       "      <td>CLI2</td>\n",
       "      <td>A</td>\n",
       "      <td>TIPO1</td>\n",
       "      <td>FUEL 1</td>\n",
       "      <td>Baja</td>\n",
       "      <td>M</td>\n",
       "      <td>Contado</td>\n",
       "      <td>CASADO</td>\n",
       "      <td>F</td>\n",
       "      <td>Empresa</td>\n",
       "      <td>...</td>\n",
       "      <td>Medio-Bajo</td>\n",
       "      <td>SI</td>\n",
       "      <td>No</td>\n",
       "      <td>NO</td>\n",
       "      <td>1376</td>\n",
       "      <td>7187</td>\n",
       "      <td>False</td>\n",
       "      <td>2</td>\n",
       "      <td>53</td>\n",
       "      <td>0</td>\n",
       "    </tr>\n",
       "    <tr>\n",
       "      <th>2</th>\n",
       "      <td>CLI3</td>\n",
       "      <td>A</td>\n",
       "      <td>TIPO1</td>\n",
       "      <td>FUEL 1</td>\n",
       "      <td>Baja</td>\n",
       "      <td>M</td>\n",
       "      <td>Otros</td>\n",
       "      <td>CASADO</td>\n",
       "      <td>M</td>\n",
       "      <td>Empresa</td>\n",
       "      <td>...</td>\n",
       "      <td>Medio</td>\n",
       "      <td>NO DATA</td>\n",
       "      <td>No</td>\n",
       "      <td>NO</td>\n",
       "      <td>1376</td>\n",
       "      <td>0</td>\n",
       "      <td>True</td>\n",
       "      <td>4</td>\n",
       "      <td>21</td>\n",
       "      <td>3</td>\n",
       "    </tr>\n",
       "    <tr>\n",
       "      <th>3</th>\n",
       "      <td>CLI4</td>\n",
       "      <td>A</td>\n",
       "      <td>TIPO1</td>\n",
       "      <td>FUEL 1</td>\n",
       "      <td>Baja</td>\n",
       "      <td>M</td>\n",
       "      <td>Financiera Marca</td>\n",
       "      <td>CASADO</td>\n",
       "      <td>F</td>\n",
       "      <td>Empresa</td>\n",
       "      <td>...</td>\n",
       "      <td>Medio</td>\n",
       "      <td>SI</td>\n",
       "      <td>Averia muy grave</td>\n",
       "      <td>SI</td>\n",
       "      <td>2015</td>\n",
       "      <td>7256</td>\n",
       "      <td>True</td>\n",
       "      <td>4</td>\n",
       "      <td>48</td>\n",
       "      <td>5</td>\n",
       "    </tr>\n",
       "    <tr>\n",
       "      <th>4</th>\n",
       "      <td>CLI5</td>\n",
       "      <td>A</td>\n",
       "      <td>TIPO1</td>\n",
       "      <td>FUEL 1</td>\n",
       "      <td>Baja</td>\n",
       "      <td>M</td>\n",
       "      <td>Financiera Marca</td>\n",
       "      <td>CASADO</td>\n",
       "      <td>F</td>\n",
       "      <td>Funcionario</td>\n",
       "      <td>...</td>\n",
       "      <td>Alto</td>\n",
       "      <td>NO DATA</td>\n",
       "      <td>No</td>\n",
       "      <td>NO</td>\n",
       "      <td>1818</td>\n",
       "      <td>0</td>\n",
       "      <td>True</td>\n",
       "      <td>3</td>\n",
       "      <td>21</td>\n",
       "      <td>3</td>\n",
       "    </tr>\n",
       "  </tbody>\n",
       "</table>\n",
       "<p>5 rows × 24 columns</p>\n",
       "</div>"
      ],
      "text/plain": [
       "   CODE PRODUCTO TIPO_CARROCERIA COMBUSTIBLE Potencia TRANS        FORMA_PAGO  \\\n",
       "0  CLI1        A           TIPO1      FUEL 1     Baja     M           Contado   \n",
       "1  CLI2        A           TIPO1      FUEL 1     Baja     M           Contado   \n",
       "2  CLI3        A           TIPO1      FUEL 1     Baja     M             Otros   \n",
       "3  CLI4        A           TIPO1      FUEL 1     Baja     M  Financiera Marca   \n",
       "4  CLI5        A           TIPO1      FUEL 1     Baja     M  Financiera Marca   \n",
       "\n",
       "  ESTADO_CIVIL GENERO    OcupaciOn  ...  Zona_Renta REV_Garantia  \\\n",
       "0       CASADO      M      Empresa  ...  Medio-Bajo      NO DATA   \n",
       "1       CASADO      F      Empresa  ...  Medio-Bajo           SI   \n",
       "2       CASADO      M      Empresa  ...       Medio      NO DATA   \n",
       "3       CASADO      F      Empresa  ...       Medio           SI   \n",
       "4       CASADO      F  Funcionario  ...        Alto      NO DATA   \n",
       "\n",
       "       Averia_grave QUEJA_CAC COSTE_VENTA km_anno Mas_1_coche Revisiones  \\\n",
       "0  Averia muy grave        SI        2892       0       False          2   \n",
       "1                No        NO        1376    7187       False          2   \n",
       "2                No        NO        1376       0        True          4   \n",
       "3  Averia muy grave        SI        2015    7256        True          4   \n",
       "4                No        NO        1818       0        True          3   \n",
       "\n",
       "   Edad_Cliente  Tiempo  \n",
       "0            18       0  \n",
       "1            53       0  \n",
       "2            21       3  \n",
       "3            48       5  \n",
       "4            21       3  \n",
       "\n",
       "[5 rows x 24 columns]"
      ]
     },
     "execution_count": 2,
     "metadata": {},
     "output_type": "execute_result"
    }
   ],
   "source": [
    "df=pd.read_csv(\"../data/raw/Propensity.csv\")\n",
    "df.head()"
   ]
  },
  {
   "cell_type": "markdown",
   "metadata": {},
   "source": [
    "# Conteo Valores Nulos"
   ]
  },
  {
   "cell_type": "code",
   "execution_count": 3,
   "metadata": {},
   "outputs": [
    {
     "data": {
      "application/vnd.microsoft.datawrangler.viewer.v0+json": {
       "columns": [
        {
         "name": "index",
         "rawType": "object",
         "type": "string"
        },
        {
         "name": "Valores Nulos",
         "rawType": "int64",
         "type": "integer"
        },
        {
         "name": "Porcentaje (%)",
         "rawType": "float64",
         "type": "float"
        }
       ],
       "conversionMethod": "pd.DataFrame",
       "ref": "b2058d66-6c0b-4d1c-828d-5812c2fc01ba",
       "rows": [
        [
         "ESTADO_CIVIL",
         "890",
         "1.5331874795431446"
        ],
        [
         "GENERO",
         "860",
         "1.4815070027046118"
        ],
        [
         "Zona_Renta",
         "13178",
         "22.701510792606246"
        ],
        [
         "Averia_grave",
         "1",
         "0.001722682561284432"
        ]
       ],
       "shape": {
        "columns": 2,
        "rows": 4
       }
      },
      "text/html": [
       "<div>\n",
       "<style scoped>\n",
       "    .dataframe tbody tr th:only-of-type {\n",
       "        vertical-align: middle;\n",
       "    }\n",
       "\n",
       "    .dataframe tbody tr th {\n",
       "        vertical-align: top;\n",
       "    }\n",
       "\n",
       "    .dataframe thead th {\n",
       "        text-align: right;\n",
       "    }\n",
       "</style>\n",
       "<table border=\"1\" class=\"dataframe\">\n",
       "  <thead>\n",
       "    <tr style=\"text-align: right;\">\n",
       "      <th></th>\n",
       "      <th>Valores Nulos</th>\n",
       "      <th>Porcentaje (%)</th>\n",
       "    </tr>\n",
       "  </thead>\n",
       "  <tbody>\n",
       "    <tr>\n",
       "      <th>ESTADO_CIVIL</th>\n",
       "      <td>890</td>\n",
       "      <td>1.533187</td>\n",
       "    </tr>\n",
       "    <tr>\n",
       "      <th>GENERO</th>\n",
       "      <td>860</td>\n",
       "      <td>1.481507</td>\n",
       "    </tr>\n",
       "    <tr>\n",
       "      <th>Zona_Renta</th>\n",
       "      <td>13178</td>\n",
       "      <td>22.701511</td>\n",
       "    </tr>\n",
       "    <tr>\n",
       "      <th>Averia_grave</th>\n",
       "      <td>1</td>\n",
       "      <td>0.001723</td>\n",
       "    </tr>\n",
       "  </tbody>\n",
       "</table>\n",
       "</div>"
      ],
      "text/plain": [
       "              Valores Nulos  Porcentaje (%)\n",
       "ESTADO_CIVIL            890        1.533187\n",
       "GENERO                  860        1.481507\n",
       "Zona_Renta            13178       22.701511\n",
       "Averia_grave              1        0.001723"
      ]
     },
     "execution_count": 3,
     "metadata": {},
     "output_type": "execute_result"
    }
   ],
   "source": [
    "missing_percentage = (df.isnull().sum() / len(df)) * 100\n",
    "\n",
    "missing_summary = pd.DataFrame({\n",
    "    \"Valores Nulos\": df.isnull().sum(),\n",
    "    \"Porcentaje (%)\": missing_percentage\n",
    "})\n",
    "\n",
    "missing_summary = missing_summary[missing_summary[\"Valores Nulos\"] > 0]\n",
    "missing_summary\n"
   ]
  },
  {
   "cell_type": "markdown",
   "metadata": {},
   "source": [
    "# Propensity_clean_v1"
   ]
  },
  {
   "cell_type": "markdown",
   "metadata": {},
   "source": [
    "Para este dataset vamos a aplicar las siguientes medidas\n",
    "- Eliminar todos los valores nulos\n",
    "- Transformar las variables categóricas"
   ]
  },
  {
   "cell_type": "markdown",
   "metadata": {},
   "source": [
    "**Transformacion variables categóricas**\n",
    "\n",
    "*Label Encoding:*\n",
    "\n",
    "PRODUCTO, TIPO_CARROCERIA, COMBUSTIBLE, FORMA_PAGO, ESTADO_CIVIL, GENERO, OcupaciOn, PROVINCIA, Zona_Renta, REV_Garantia, QUEJA_CAC, Campanna1, Campanna2, Campanna3, Mas_1_coche,TRANS,REV_Garantia, Zona_Renta\n",
    "\n",
    "*Ordinal Encoding:* \n",
    "\n",
    "Potencia, Averia_grave  \n",
    "\n"
   ]
  },
  {
   "cell_type": "code",
   "execution_count": 4,
   "metadata": {},
   "outputs": [],
   "source": [
    "#eliminar valores nulos\n",
    "df_clean_v1=df.dropna()"
   ]
  },
  {
   "cell_type": "code",
   "execution_count": 5,
   "metadata": {},
   "outputs": [],
   "source": [
    "#eliminamos la columna CODE\n",
    "df_clean_v1=df_clean_v1.drop(columns=['CODE'])"
   ]
  },
  {
   "cell_type": "code",
   "execution_count": 6,
   "metadata": {},
   "outputs": [
    {
     "data": {
      "text/plain": [
       "Index(['PRODUCTO', 'TIPO_CARROCERIA', 'COMBUSTIBLE', 'Potencia', 'TRANS',\n",
       "       'FORMA_PAGO', 'ESTADO_CIVIL', 'GENERO', 'OcupaciOn', 'PROVINCIA',\n",
       "       'Campanna1', 'Campanna2', 'Campanna3', 'Zona_Renta', 'REV_Garantia',\n",
       "       'Averia_grave', 'QUEJA_CAC', 'COSTE_VENTA', 'km_anno', 'Mas_1_coche',\n",
       "       'Revisiones', 'Edad_Cliente', 'Tiempo'],\n",
       "      dtype='object')"
      ]
     },
     "execution_count": 6,
     "metadata": {},
     "output_type": "execute_result"
    }
   ],
   "source": [
    "df_clean_v1.columns"
   ]
  },
  {
   "cell_type": "code",
   "execution_count": 7,
   "metadata": {},
   "outputs": [
    {
     "data": {
      "application/vnd.microsoft.datawrangler.viewer.v0+json": {
       "columns": [
        {
         "name": "index",
         "rawType": "int64",
         "type": "integer"
        },
        {
         "name": "PRODUCTO",
         "rawType": "int64",
         "type": "integer"
        },
        {
         "name": "TIPO_CARROCERIA",
         "rawType": "int64",
         "type": "integer"
        },
        {
         "name": "COMBUSTIBLE",
         "rawType": "int64",
         "type": "integer"
        },
        {
         "name": "FORMA_PAGO",
         "rawType": "int64",
         "type": "integer"
        },
        {
         "name": "ESTADO_CIVIL",
         "rawType": "int64",
         "type": "integer"
        },
        {
         "name": "GENERO",
         "rawType": "int64",
         "type": "integer"
        },
        {
         "name": "OcupaciOn",
         "rawType": "int64",
         "type": "integer"
        },
        {
         "name": "PROVINCIA",
         "rawType": "int64",
         "type": "integer"
        },
        {
         "name": "REV_Garantia",
         "rawType": "int64",
         "type": "integer"
        },
        {
         "name": "QUEJA_CAC",
         "rawType": "int64",
         "type": "integer"
        },
        {
         "name": "Campanna1",
         "rawType": "int64",
         "type": "integer"
        },
        {
         "name": "Campanna2",
         "rawType": "int64",
         "type": "integer"
        },
        {
         "name": "Campanna3",
         "rawType": "int64",
         "type": "integer"
        },
        {
         "name": "Mas_1_coche",
         "rawType": "int64",
         "type": "integer"
        },
        {
         "name": "TRANS",
         "rawType": "int64",
         "type": "integer"
        }
       ],
       "conversionMethod": "pd.DataFrame",
       "ref": "51ca7eda-900d-4f2a-b657-e0a1a4eeb38d",
       "rows": [
        [
         "0",
         "0",
         "0",
         "0",
         "0",
         "0",
         "1",
         "1",
         "4",
         "0",
         "1",
         "1",
         "0",
         "0",
         "0",
         "1"
        ],
        [
         "1",
         "0",
         "0",
         "0",
         "0",
         "0",
         "0",
         "1",
         "46",
         "1",
         "0",
         "0",
         "0",
         "0",
         "0",
         "1"
        ],
        [
         "2",
         "0",
         "0",
         "0",
         "3",
         "0",
         "1",
         "1",
         "29",
         "0",
         "0",
         "0",
         "0",
         "0",
         "1",
         "1"
        ],
        [
         "3",
         "0",
         "0",
         "0",
         "2",
         "0",
         "0",
         "1",
         "31",
         "1",
         "1",
         "1",
         "0",
         "0",
         "1",
         "1"
        ],
        [
         "4",
         "0",
         "0",
         "0",
         "2",
         "0",
         "0",
         "2",
         "40",
         "0",
         "0",
         "1",
         "0",
         "1",
         "1",
         "1"
        ]
       ],
       "shape": {
        "columns": 15,
        "rows": 5
       }
      },
      "text/html": [
       "<div>\n",
       "<style scoped>\n",
       "    .dataframe tbody tr th:only-of-type {\n",
       "        vertical-align: middle;\n",
       "    }\n",
       "\n",
       "    .dataframe tbody tr th {\n",
       "        vertical-align: top;\n",
       "    }\n",
       "\n",
       "    .dataframe thead th {\n",
       "        text-align: right;\n",
       "    }\n",
       "</style>\n",
       "<table border=\"1\" class=\"dataframe\">\n",
       "  <thead>\n",
       "    <tr style=\"text-align: right;\">\n",
       "      <th></th>\n",
       "      <th>PRODUCTO</th>\n",
       "      <th>TIPO_CARROCERIA</th>\n",
       "      <th>COMBUSTIBLE</th>\n",
       "      <th>FORMA_PAGO</th>\n",
       "      <th>ESTADO_CIVIL</th>\n",
       "      <th>GENERO</th>\n",
       "      <th>OcupaciOn</th>\n",
       "      <th>PROVINCIA</th>\n",
       "      <th>REV_Garantia</th>\n",
       "      <th>QUEJA_CAC</th>\n",
       "      <th>Campanna1</th>\n",
       "      <th>Campanna2</th>\n",
       "      <th>Campanna3</th>\n",
       "      <th>Mas_1_coche</th>\n",
       "      <th>TRANS</th>\n",
       "    </tr>\n",
       "  </thead>\n",
       "  <tbody>\n",
       "    <tr>\n",
       "      <th>0</th>\n",
       "      <td>0</td>\n",
       "      <td>0</td>\n",
       "      <td>0</td>\n",
       "      <td>0</td>\n",
       "      <td>0</td>\n",
       "      <td>1</td>\n",
       "      <td>1</td>\n",
       "      <td>4</td>\n",
       "      <td>0</td>\n",
       "      <td>1</td>\n",
       "      <td>1</td>\n",
       "      <td>0</td>\n",
       "      <td>0</td>\n",
       "      <td>0</td>\n",
       "      <td>1</td>\n",
       "    </tr>\n",
       "    <tr>\n",
       "      <th>1</th>\n",
       "      <td>0</td>\n",
       "      <td>0</td>\n",
       "      <td>0</td>\n",
       "      <td>0</td>\n",
       "      <td>0</td>\n",
       "      <td>0</td>\n",
       "      <td>1</td>\n",
       "      <td>46</td>\n",
       "      <td>1</td>\n",
       "      <td>0</td>\n",
       "      <td>0</td>\n",
       "      <td>0</td>\n",
       "      <td>0</td>\n",
       "      <td>0</td>\n",
       "      <td>1</td>\n",
       "    </tr>\n",
       "    <tr>\n",
       "      <th>2</th>\n",
       "      <td>0</td>\n",
       "      <td>0</td>\n",
       "      <td>0</td>\n",
       "      <td>3</td>\n",
       "      <td>0</td>\n",
       "      <td>1</td>\n",
       "      <td>1</td>\n",
       "      <td>29</td>\n",
       "      <td>0</td>\n",
       "      <td>0</td>\n",
       "      <td>0</td>\n",
       "      <td>0</td>\n",
       "      <td>0</td>\n",
       "      <td>1</td>\n",
       "      <td>1</td>\n",
       "    </tr>\n",
       "    <tr>\n",
       "      <th>3</th>\n",
       "      <td>0</td>\n",
       "      <td>0</td>\n",
       "      <td>0</td>\n",
       "      <td>2</td>\n",
       "      <td>0</td>\n",
       "      <td>0</td>\n",
       "      <td>1</td>\n",
       "      <td>31</td>\n",
       "      <td>1</td>\n",
       "      <td>1</td>\n",
       "      <td>1</td>\n",
       "      <td>0</td>\n",
       "      <td>0</td>\n",
       "      <td>1</td>\n",
       "      <td>1</td>\n",
       "    </tr>\n",
       "    <tr>\n",
       "      <th>4</th>\n",
       "      <td>0</td>\n",
       "      <td>0</td>\n",
       "      <td>0</td>\n",
       "      <td>2</td>\n",
       "      <td>0</td>\n",
       "      <td>0</td>\n",
       "      <td>2</td>\n",
       "      <td>40</td>\n",
       "      <td>0</td>\n",
       "      <td>0</td>\n",
       "      <td>1</td>\n",
       "      <td>0</td>\n",
       "      <td>1</td>\n",
       "      <td>1</td>\n",
       "      <td>1</td>\n",
       "    </tr>\n",
       "  </tbody>\n",
       "</table>\n",
       "</div>"
      ],
      "text/plain": [
       "   PRODUCTO  TIPO_CARROCERIA  COMBUSTIBLE  FORMA_PAGO  ESTADO_CIVIL  GENERO  \\\n",
       "0         0                0            0           0             0       1   \n",
       "1         0                0            0           0             0       0   \n",
       "2         0                0            0           3             0       1   \n",
       "3         0                0            0           2             0       0   \n",
       "4         0                0            0           2             0       0   \n",
       "\n",
       "   OcupaciOn  PROVINCIA  REV_Garantia  QUEJA_CAC  Campanna1  Campanna2  \\\n",
       "0          1          4             0          1          1          0   \n",
       "1          1         46             1          0          0          0   \n",
       "2          1         29             0          0          0          0   \n",
       "3          1         31             1          1          1          0   \n",
       "4          2         40             0          0          1          0   \n",
       "\n",
       "   Campanna3  Mas_1_coche  TRANS  \n",
       "0          0            0      1  \n",
       "1          0            0      1  \n",
       "2          0            1      1  \n",
       "3          0            1      1  \n",
       "4          1            1      1  "
      ]
     },
     "execution_count": 7,
     "metadata": {},
     "output_type": "execute_result"
    }
   ],
   "source": [
    "# Label Encoding:\n",
    "label_cols = [\"PRODUCTO\", \"TIPO_CARROCERIA\", \"COMBUSTIBLE\", \"FORMA_PAGO\", \"ESTADO_CIVIL\", \n",
    "              \"GENERO\", \"OcupaciOn\", \"PROVINCIA\", \"REV_Garantia\", \"QUEJA_CAC\", \n",
    "              \"Campanna1\", \"Campanna2\", \"Campanna3\", \"Mas_1_coche\", \"TRANS\"]  \n",
    "\n",
    "label_encoders = {}\n",
    "\n",
    "for col in label_cols:\n",
    "    le = LabelEncoder()\n",
    "    df_clean_v1[col] = le.fit_transform(df_clean_v1[col])\n",
    "    label_encoders[col] = le  # Guardamos el encoder por si necesitamos revertirlo\n",
    "\n",
    "# Confirmar la transformación en algunas columnas\n",
    "df_clean_v1[label_cols].head()\n"
   ]
  },
  {
   "cell_type": "code",
   "execution_count": 8,
   "metadata": {},
   "outputs": [
    {
     "name": "stdout",
     "output_type": "stream",
     "text": [
      "Valores únicos en PRODUCTO:\n",
      "[ 0  1  2  7  9  3  8  4  5 10  6]\n",
      "\n",
      "Valores únicos en COMBUSTIBLE:\n",
      "[0 1]\n",
      "\n",
      "Valores únicos en Potencia:\n",
      "['Baja' 'Media' 'Alta']\n",
      "\n",
      "Valores únicos en TRANS:\n",
      "[1 0]\n",
      "\n",
      "Valores únicos en FORMA_PAGO:\n",
      "[0 3 2 1]\n",
      "\n",
      "Valores únicos en ESTADO_CIVIL:\n",
      "[0 3 2 1]\n",
      "\n",
      "Valores únicos en GENERO:\n",
      "[1 0]\n",
      "\n",
      "Valores únicos en OcupaciOn:\n",
      "[1 2 0]\n",
      "\n",
      "Valores únicos en Averia_grave:\n",
      "['Averia muy grave' 'No' 'Averia leve' 'Averia grave']\n",
      "\n",
      "Valores únicos en Mas_1_coche:\n",
      "[0 1]\n",
      "\n",
      "Valores únicos en Campanna1:\n",
      "[1 0]\n",
      "\n",
      "Valores únicos en QUEJA_CAC:\n",
      "[1 0]\n",
      "\n",
      "Valores únicos en Zona_Renta:\n",
      "['Medio-Bajo' 'Medio' 'Alto' 'Otros']\n",
      "\n"
     ]
    }
   ],
   "source": [
    "#comprobamos los valores que hay\n",
    "columns_of_interest = [\"PRODUCTO\",\"COMBUSTIBLE\", \"Potencia\", \"TRANS\", \"FORMA_PAGO\", \n",
    "                       \"ESTADO_CIVIL\", \"GENERO\", \"OcupaciOn\", \n",
    "                       \"Averia_grave\", \"Mas_1_coche\",'Campanna1','QUEJA_CAC','Zona_Renta']\n",
    "for col in columns_of_interest:\n",
    "    print(f\"Valores únicos en {col}:\")\n",
    "    print(df_clean_v1[col].unique())\n",
    "    print(\"\")"
   ]
  },
  {
   "cell_type": "markdown",
   "metadata": {},
   "source": [
    "Aplicamos ordinal-encod para las variables que presentan un cierto orden como Averia_grave o Potencia"
   ]
  },
  {
   "cell_type": "code",
   "execution_count": 9,
   "metadata": {},
   "outputs": [],
   "source": [
    "from sklearn.preprocessing import OrdinalEncoder\n",
    "ordinal_encoder = OrdinalEncoder(categories=[\n",
    "    [\"Baja\", \"Media\", \"Alta\"],  # Potencia: 0, 1, 2\n",
    "    [\"No\", \"Averia leve\", \"Averia grave\", \"Averia muy grave\"],  # Averia_grave: 0, 1, 2, 3\n",
    "    [\"Otros\", \"Medio-Bajo\", \"Medio\", \"Alto\"]  # Zona_Renta: 'Otros' es la peor categoría (0)\n",
    "])\n",
    "\n",
    "# Aplicar Ordinal Encoding a 'Potencia', 'Averia_grave' y 'Zona_Renta' en df_clean_v1 y convertir a enteros\n",
    "df_clean_v1[[\"Potencia\", \"Averia_grave\", \"Zona_Renta\"]] = ordinal_encoder.fit_transform(\n",
    "    df_clean_v1[[\"Potencia\", \"Averia_grave\", \"Zona_Renta\"]]\n",
    ").astype(int)\n"
   ]
  },
  {
   "cell_type": "code",
   "execution_count": 10,
   "metadata": {},
   "outputs": [
    {
     "name": "stdout",
     "output_type": "stream",
     "text": [
      "<class 'pandas.core.frame.DataFrame'>\n",
      "Index: 44119 entries, 0 to 58047\n",
      "Data columns (total 23 columns):\n",
      " #   Column           Non-Null Count  Dtype\n",
      "---  ------           --------------  -----\n",
      " 0   PRODUCTO         44119 non-null  int64\n",
      " 1   TIPO_CARROCERIA  44119 non-null  int64\n",
      " 2   COMBUSTIBLE      44119 non-null  int64\n",
      " 3   Potencia         44119 non-null  int64\n",
      " 4   TRANS            44119 non-null  int64\n",
      " 5   FORMA_PAGO       44119 non-null  int64\n",
      " 6   ESTADO_CIVIL     44119 non-null  int64\n",
      " 7   GENERO           44119 non-null  int64\n",
      " 8   OcupaciOn        44119 non-null  int64\n",
      " 9   PROVINCIA        44119 non-null  int64\n",
      " 10  Campanna1        44119 non-null  int64\n",
      " 11  Campanna2        44119 non-null  int64\n",
      " 12  Campanna3        44119 non-null  int64\n",
      " 13  Zona_Renta       44119 non-null  int64\n",
      " 14  REV_Garantia     44119 non-null  int64\n",
      " 15  Averia_grave     44119 non-null  int64\n",
      " 16  QUEJA_CAC        44119 non-null  int64\n",
      " 17  COSTE_VENTA      44119 non-null  int64\n",
      " 18  km_anno          44119 non-null  int64\n",
      " 19  Mas_1_coche      44119 non-null  int64\n",
      " 20  Revisiones       44119 non-null  int64\n",
      " 21  Edad_Cliente     44119 non-null  int64\n",
      " 22  Tiempo           44119 non-null  int64\n",
      "dtypes: int64(23)\n",
      "memory usage: 8.1 MB\n"
     ]
    }
   ],
   "source": [
    "df_clean_v1.info()"
   ]
  },
  {
   "cell_type": "code",
   "execution_count": 11,
   "metadata": {},
   "outputs": [],
   "source": [
    "base_dir = os.path.abspath(\"..\")  # Sube un nivel en la estructura de carpetas si ejecutas desde notebooks\n",
    "processed_dir = os.path.join(base_dir, \"data\", \"processed\")\n",
    "os.makedirs(processed_dir, exist_ok=True)  \n",
    "\n",
    "df_clean_v1.to_csv(os.path.join(processed_dir, \"Propensity_clean_v1.csv\"), index=False)\n"
   ]
  },
  {
   "cell_type": "markdown",
   "metadata": {},
   "source": [
    "# Propensity_clean_v2"
   ]
  },
  {
   "cell_type": "markdown",
   "metadata": {},
   "source": [
    "Para este dataset vamos a aplicar las siguientes medidas\n",
    "- Eliminar el nulo en `Averia_Grave`\n",
    "- Sustituir `Estado_Civil` y `Genero` por la moda de estas variables\n",
    "- En `Zona_Renta` los nulos->Desconocido y en el O-E le damos la menor importancia"
   ]
  },
  {
   "cell_type": "code",
   "execution_count": 12,
   "metadata": {},
   "outputs": [],
   "source": [
    "df_clean_v2=df.drop(columns=['CODE'])"
   ]
  },
  {
   "cell_type": "code",
   "execution_count": 13,
   "metadata": {},
   "outputs": [],
   "source": [
    "df_clean_v2 = df_clean_v2.dropna(subset=['Averia_grave'])"
   ]
  },
  {
   "cell_type": "code",
   "execution_count": 14,
   "metadata": {
    "vscode": {
     "languageId": "ruby"
    }
   },
   "outputs": [],
   "source": [
    "# Calcular la moda de las columnas ESTADO_CIVIL y GENERO en df_clean_v2\n",
    "moda_estado_civil_v2 = df_clean_v2['ESTADO_CIVIL'].mode()[0]\n",
    "moda_genero_v2 = df_clean_v2['GENERO'].mode()[0]\n",
    "\n",
    "df_clean_v2['ESTADO_CIVIL'] = df_clean_v2['ESTADO_CIVIL'].fillna(moda_estado_civil_v2)\n",
    "df_clean_v2['GENERO'] = df_clean_v2['GENERO'].fillna(moda_genero_v2)\n"
   ]
  },
  {
   "cell_type": "code",
   "execution_count": 15,
   "metadata": {},
   "outputs": [],
   "source": [
    "# Sustituir valores nulos en 'Zona_Renta' con 'Desconocido'\n",
    "df_clean_v2[\"Zona_Renta\"] = df_clean_v2[\"Zona_Renta\"].fillna(\"Desconocido\")\n"
   ]
  },
  {
   "cell_type": "code",
   "execution_count": 16,
   "metadata": {},
   "outputs": [],
   "source": [
    "\n",
    "label_cols = [\"PRODUCTO\", \"TIPO_CARROCERIA\", \"COMBUSTIBLE\", \"FORMA_PAGO\", \"ESTADO_CIVIL\", \n",
    "              \"GENERO\", \"OcupaciOn\", \"PROVINCIA\", \"REV_Garantia\", \"QUEJA_CAC\", \n",
    "              \"Campanna1\", \"Campanna2\", \"Campanna3\", \"Mas_1_coche\", \"TRANS\"]  \n",
    "\n",
    "label_encoders_v2 = {}\n",
    "\n",
    "for col in label_cols:\n",
    "    le = LabelEncoder()\n",
    "    df_clean_v2[col] = le.fit_transform(df_clean_v2[col])\n",
    "    label_encoders_v2[col] = le  # Guardamos el encoder por si necesitamos revertirlo\n"
   ]
  },
  {
   "cell_type": "code",
   "execution_count": 17,
   "metadata": {},
   "outputs": [
    {
     "data": {
      "text/plain": [
       "array(['Medio-Bajo', 'Medio', 'Alto', 'Desconocido', 'Otros'],\n",
       "      dtype=object)"
      ]
     },
     "execution_count": 17,
     "metadata": {},
     "output_type": "execute_result"
    }
   ],
   "source": [
    "#como hemos transformado los nulos por desconocido le vamos a dar el menor peso a desconocido\n",
    "df_clean_v2['Zona_Renta'].unique()"
   ]
  },
  {
   "cell_type": "code",
   "execution_count": 18,
   "metadata": {},
   "outputs": [
    {
     "data": {
      "application/vnd.microsoft.datawrangler.viewer.v0+json": {
       "columns": [
        {
         "name": "index",
         "rawType": "int64",
         "type": "integer"
        },
        {
         "name": "Potencia",
         "rawType": "int64",
         "type": "integer"
        },
        {
         "name": "Averia_grave",
         "rawType": "int64",
         "type": "integer"
        },
        {
         "name": "Zona_Renta",
         "rawType": "int64",
         "type": "integer"
        }
       ],
       "conversionMethod": "pd.DataFrame",
       "ref": "f8b8fb97-b061-4a93-9ad1-147c8ca3f247",
       "rows": [
        [
         "0",
         "0",
         "3",
         "2"
        ],
        [
         "1",
         "0",
         "0",
         "2"
        ],
        [
         "2",
         "0",
         "0",
         "3"
        ],
        [
         "3",
         "0",
         "3",
         "3"
        ],
        [
         "4",
         "0",
         "0",
         "4"
        ]
       ],
       "shape": {
        "columns": 3,
        "rows": 5
       }
      },
      "text/html": [
       "<div>\n",
       "<style scoped>\n",
       "    .dataframe tbody tr th:only-of-type {\n",
       "        vertical-align: middle;\n",
       "    }\n",
       "\n",
       "    .dataframe tbody tr th {\n",
       "        vertical-align: top;\n",
       "    }\n",
       "\n",
       "    .dataframe thead th {\n",
       "        text-align: right;\n",
       "    }\n",
       "</style>\n",
       "<table border=\"1\" class=\"dataframe\">\n",
       "  <thead>\n",
       "    <tr style=\"text-align: right;\">\n",
       "      <th></th>\n",
       "      <th>Potencia</th>\n",
       "      <th>Averia_grave</th>\n",
       "      <th>Zona_Renta</th>\n",
       "    </tr>\n",
       "  </thead>\n",
       "  <tbody>\n",
       "    <tr>\n",
       "      <th>0</th>\n",
       "      <td>0</td>\n",
       "      <td>3</td>\n",
       "      <td>2</td>\n",
       "    </tr>\n",
       "    <tr>\n",
       "      <th>1</th>\n",
       "      <td>0</td>\n",
       "      <td>0</td>\n",
       "      <td>2</td>\n",
       "    </tr>\n",
       "    <tr>\n",
       "      <th>2</th>\n",
       "      <td>0</td>\n",
       "      <td>0</td>\n",
       "      <td>3</td>\n",
       "    </tr>\n",
       "    <tr>\n",
       "      <th>3</th>\n",
       "      <td>0</td>\n",
       "      <td>3</td>\n",
       "      <td>3</td>\n",
       "    </tr>\n",
       "    <tr>\n",
       "      <th>4</th>\n",
       "      <td>0</td>\n",
       "      <td>0</td>\n",
       "      <td>4</td>\n",
       "    </tr>\n",
       "  </tbody>\n",
       "</table>\n",
       "</div>"
      ],
      "text/plain": [
       "   Potencia  Averia_grave  Zona_Renta\n",
       "0         0             3           2\n",
       "1         0             0           2\n",
       "2         0             0           3\n",
       "3         0             3           3\n",
       "4         0             0           4"
      ]
     },
     "execution_count": 18,
     "metadata": {},
     "output_type": "execute_result"
    }
   ],
   "source": [
    "#Ordinal Encoding: 'Potencia', 'Averia_grave' y 'Zona_Renta' en df_clean_v2\n",
    "\n",
    "\n",
    "# Definir el orden correcto para cada variable\n",
    "ordinal_encoder = OrdinalEncoder(categories=[\n",
    "    [\"Baja\", \"Media\", \"Alta\"],  # Potencia: 0, 1, 2\n",
    "    [\"No\", \"Averia leve\", \"Averia grave\", \"Averia muy grave\"],  # Averia_grave: 0, 1, 2, 3\n",
    "    [\"Desconocido\", \"Otros\",\"Medio-Bajo\", \"Medio\", \"Alto\"]  # Zona_Renta: Desconocido tiene menor importancia\n",
    "])\n",
    "\n",
    "\n",
    "df_clean_v2[[\"Potencia\", \"Averia_grave\", \"Zona_Renta\"]] = ordinal_encoder.fit_transform(df_clean_v2[[\"Potencia\", \"Averia_grave\", \"Zona_Renta\"]]).astype(int)\n",
    "\n",
    "# Confirmar la transformación final\n",
    "df_clean_v2[[\"Potencia\", \"Averia_grave\", \"Zona_Renta\"]].head()\n"
   ]
  },
  {
   "cell_type": "code",
   "execution_count": 19,
   "metadata": {},
   "outputs": [],
   "source": [
    "df_clean_v2.to_csv(os.path.join(processed_dir, \"Propensity_clean_v2.csv\"), index=False)"
   ]
  },
  {
   "cell_type": "markdown",
   "metadata": {},
   "source": [
    "# Propensity_clean_v3.csv"
   ]
  },
  {
   "cell_type": "markdown",
   "metadata": {},
   "source": [
    "En este csv vamos a hacer las siguientes transformaciones\n",
    "- Cambiar `Zona_Renta`,`Genero`y `Estado_Civil`por la moda\n",
    "- Eliminar nulos `Averia`"
   ]
  },
  {
   "cell_type": "code",
   "execution_count": 20,
   "metadata": {},
   "outputs": [],
   "source": [
    "df_clean_v3 = df.copy()"
   ]
  },
  {
   "cell_type": "code",
   "execution_count": 21,
   "metadata": {},
   "outputs": [],
   "source": [
    "df_clean_v3=df.drop(columns=['CODE'])"
   ]
  },
  {
   "cell_type": "code",
   "execution_count": 22,
   "metadata": {},
   "outputs": [],
   "source": [
    "# Sustituir valores nulos en 'GENERO', 'ESTADO_CIVIL' y 'Zona_Renta' por su moda\n",
    "df_clean_v3[\"GENERO\"] = df_clean_v3[\"GENERO\"].fillna(df_clean_v3[\"GENERO\"].mode()[0])\n",
    "df_clean_v3[\"ESTADO_CIVIL\"] = df_clean_v3[\"ESTADO_CIVIL\"].fillna(df_clean_v3[\"ESTADO_CIVIL\"].mode()[0])\n",
    "df_clean_v3[\"Zona_Renta\"] = df_clean_v3[\"Zona_Renta\"].fillna(df_clean_v3[\"Zona_Renta\"].mode()[0])\n"
   ]
  },
  {
   "cell_type": "code",
   "execution_count": 23,
   "metadata": {},
   "outputs": [],
   "source": [
    "df_clean_v3= df_clean_v3.dropna(subset=['Averia_grave'])"
   ]
  },
  {
   "cell_type": "code",
   "execution_count": 24,
   "metadata": {},
   "outputs": [],
   "source": [
    "label_cols = [\"PRODUCTO\", \"TIPO_CARROCERIA\", \"COMBUSTIBLE\", \"FORMA_PAGO\", \"ESTADO_CIVIL\", \n",
    "              \"GENERO\", \"OcupaciOn\", \"PROVINCIA\", \"REV_Garantia\", \"QUEJA_CAC\", \n",
    "              \"Campanna1\", \"Campanna2\", \"Campanna3\", \"Mas_1_coche\", \"TRANS\"]\n",
    "\n",
    "label_encoders_v3 = {}\n",
    "\n",
    "for col in label_cols:\n",
    "    le = LabelEncoder()\n",
    "    df_clean_v3[col] = le.fit_transform(df_clean_v3[col])\n",
    "    label_encoders_v3[col] = le  "
   ]
  },
  {
   "cell_type": "code",
   "execution_count": 25,
   "metadata": {},
   "outputs": [
    {
     "data": {
      "text/plain": [
       "array(['Medio-Bajo', 'Medio', 'Alto', 'Otros'], dtype=object)"
      ]
     },
     "execution_count": 25,
     "metadata": {},
     "output_type": "execute_result"
    }
   ],
   "source": [
    "df_clean_v3[\"Zona_Renta\"].unique()"
   ]
  },
  {
   "cell_type": "code",
   "execution_count": 26,
   "metadata": {},
   "outputs": [],
   "source": [
    "ordinal_encoder = OrdinalEncoder(categories=[\n",
    "    [\"Baja\", \"Media\", \"Alta\"],  # Potencia: 0, 1, 2\n",
    "    [\"No\", \"Averia leve\", \"Averia grave\", \"Averia muy grave\"],  # Averia_grave: 0, 1, 2, 3\n",
    "    [\"Otros\", \"Medio-Bajo\", \"Medio\", \"Alto\"] \n",
    "])\n",
    "\n",
    "df_clean_v3[[\"Potencia\", \"Averia_grave\", \"Zona_Renta\"]] = ordinal_encoder.fit_transform(\n",
    "    df_clean_v3[[\"Potencia\", \"Averia_grave\", \"Zona_Renta\"]]).astype(int)"
   ]
  },
  {
   "cell_type": "code",
   "execution_count": 27,
   "metadata": {},
   "outputs": [],
   "source": [
    "df_clean_v3.to_csv(os.path.join(processed_dir, \"Propensity_clean_v3.csv\"), index=False)"
   ]
  },
  {
   "cell_type": "markdown",
   "metadata": {},
   "source": [
    "# Propensity_clean_v4"
   ]
  },
  {
   "cell_type": "markdown",
   "metadata": {},
   "source": [
    "En este csv vamos a hacer las siguientes transformaciones\n",
    "- Cambiar `Zona_Renta`,`Genero` por la moda\n",
    "- `Estado_Civil` si es menor de 20 Soltero y si es mayor Casado\n",
    "- Eliminar nulos `Averia`"
   ]
  },
  {
   "cell_type": "code",
   "execution_count": 28,
   "metadata": {},
   "outputs": [],
   "source": [
    "df_clean_v4=df.copy()"
   ]
  },
  {
   "cell_type": "code",
   "execution_count": 29,
   "metadata": {},
   "outputs": [],
   "source": [
    "df_clean_v4 = df_clean_v4.drop(columns=['CODE'])"
   ]
  },
  {
   "cell_type": "code",
   "execution_count": 30,
   "metadata": {},
   "outputs": [],
   "source": [
    "df_clean_v4 = df_clean_v4.dropna(subset=['Averia_grave'])"
   ]
  },
  {
   "cell_type": "code",
   "execution_count": 31,
   "metadata": {},
   "outputs": [],
   "source": [
    "# Calcular la moda de la columna Zona_Renta\n",
    "moda_zona_renta = df_clean_v4['Zona_Renta'].mode()[0]\n",
    "\n",
    "# Rellenar los valores nulos en la columna 'Zona_Renta' con la moda\n",
    "df_clean_v4['Zona_Renta'] = df_clean_v4['Zona_Renta'].fillna(moda_zona_renta)"
   ]
  },
  {
   "cell_type": "code",
   "execution_count": 32,
   "metadata": {},
   "outputs": [],
   "source": [
    "# Rellenar los valores nulos en la columna 'GENERO' con la moda\n",
    "df['GENERO'] = df['GENERO'].fillna(df['GENERO'].mode()[0])"
   ]
  },
  {
   "cell_type": "code",
   "execution_count": 33,
   "metadata": {},
   "outputs": [],
   "source": [
    "# Rellenar los valores nulos en la columna 'ESTADO_CIVIL' según la edad del cliente\n",
    "df_clean_v4['ESTADO_CIVIL'] = df_clean_v4.apply(\n",
    "    lambda row: 'SOLTERO' if pd.isnull(row['ESTADO_CIVIL']) and row['Edad_Cliente'] < 20 else \n",
    "                ('CASADO' if pd.isnull(row['ESTADO_CIVIL']) and row['Edad_Cliente'] >= 20 else row['ESTADO_CIVIL']),\n",
    "    axis=1\n",
    ")"
   ]
  },
  {
   "cell_type": "code",
   "execution_count": 34,
   "metadata": {},
   "outputs": [
    {
     "data": {
      "application/vnd.microsoft.datawrangler.viewer.v0+json": {
       "columns": [
        {
         "name": "index",
         "rawType": "int64",
         "type": "integer"
        },
        {
         "name": "PRODUCTO",
         "rawType": "int64",
         "type": "integer"
        },
        {
         "name": "TIPO_CARROCERIA",
         "rawType": "int64",
         "type": "integer"
        },
        {
         "name": "COMBUSTIBLE",
         "rawType": "int64",
         "type": "integer"
        },
        {
         "name": "FORMA_PAGO",
         "rawType": "int64",
         "type": "integer"
        },
        {
         "name": "ESTADO_CIVIL",
         "rawType": "int64",
         "type": "integer"
        },
        {
         "name": "GENERO",
         "rawType": "int64",
         "type": "integer"
        },
        {
         "name": "OcupaciOn",
         "rawType": "int64",
         "type": "integer"
        },
        {
         "name": "PROVINCIA",
         "rawType": "int64",
         "type": "integer"
        },
        {
         "name": "REV_Garantia",
         "rawType": "int64",
         "type": "integer"
        },
        {
         "name": "QUEJA_CAC",
         "rawType": "int64",
         "type": "integer"
        },
        {
         "name": "Campanna1",
         "rawType": "int64",
         "type": "integer"
        },
        {
         "name": "Campanna2",
         "rawType": "int64",
         "type": "integer"
        },
        {
         "name": "Campanna3",
         "rawType": "int64",
         "type": "integer"
        },
        {
         "name": "Mas_1_coche",
         "rawType": "int64",
         "type": "integer"
        },
        {
         "name": "TRANS",
         "rawType": "int64",
         "type": "integer"
        }
       ],
       "conversionMethod": "pd.DataFrame",
       "ref": "2c8346b9-0d63-44e8-857d-ee007715cb26",
       "rows": [
        [
         "0",
         "0",
         "0",
         "0",
         "0",
         "0",
         "1",
         "1",
         "4",
         "0",
         "1",
         "1",
         "0",
         "0",
         "0",
         "1"
        ],
        [
         "1",
         "0",
         "0",
         "0",
         "0",
         "0",
         "0",
         "1",
         "47",
         "1",
         "0",
         "0",
         "0",
         "0",
         "0",
         "1"
        ],
        [
         "2",
         "0",
         "0",
         "0",
         "3",
         "0",
         "1",
         "1",
         "30",
         "0",
         "0",
         "0",
         "0",
         "0",
         "1",
         "1"
        ],
        [
         "3",
         "0",
         "0",
         "0",
         "2",
         "0",
         "0",
         "1",
         "32",
         "1",
         "1",
         "1",
         "0",
         "0",
         "1",
         "1"
        ],
        [
         "4",
         "0",
         "0",
         "0",
         "2",
         "0",
         "0",
         "2",
         "41",
         "0",
         "0",
         "1",
         "0",
         "1",
         "1",
         "1"
        ]
       ],
       "shape": {
        "columns": 15,
        "rows": 5
       }
      },
      "text/html": [
       "<div>\n",
       "<style scoped>\n",
       "    .dataframe tbody tr th:only-of-type {\n",
       "        vertical-align: middle;\n",
       "    }\n",
       "\n",
       "    .dataframe tbody tr th {\n",
       "        vertical-align: top;\n",
       "    }\n",
       "\n",
       "    .dataframe thead th {\n",
       "        text-align: right;\n",
       "    }\n",
       "</style>\n",
       "<table border=\"1\" class=\"dataframe\">\n",
       "  <thead>\n",
       "    <tr style=\"text-align: right;\">\n",
       "      <th></th>\n",
       "      <th>PRODUCTO</th>\n",
       "      <th>TIPO_CARROCERIA</th>\n",
       "      <th>COMBUSTIBLE</th>\n",
       "      <th>FORMA_PAGO</th>\n",
       "      <th>ESTADO_CIVIL</th>\n",
       "      <th>GENERO</th>\n",
       "      <th>OcupaciOn</th>\n",
       "      <th>PROVINCIA</th>\n",
       "      <th>REV_Garantia</th>\n",
       "      <th>QUEJA_CAC</th>\n",
       "      <th>Campanna1</th>\n",
       "      <th>Campanna2</th>\n",
       "      <th>Campanna3</th>\n",
       "      <th>Mas_1_coche</th>\n",
       "      <th>TRANS</th>\n",
       "    </tr>\n",
       "  </thead>\n",
       "  <tbody>\n",
       "    <tr>\n",
       "      <th>0</th>\n",
       "      <td>0</td>\n",
       "      <td>0</td>\n",
       "      <td>0</td>\n",
       "      <td>0</td>\n",
       "      <td>0</td>\n",
       "      <td>1</td>\n",
       "      <td>1</td>\n",
       "      <td>4</td>\n",
       "      <td>0</td>\n",
       "      <td>1</td>\n",
       "      <td>1</td>\n",
       "      <td>0</td>\n",
       "      <td>0</td>\n",
       "      <td>0</td>\n",
       "      <td>1</td>\n",
       "    </tr>\n",
       "    <tr>\n",
       "      <th>1</th>\n",
       "      <td>0</td>\n",
       "      <td>0</td>\n",
       "      <td>0</td>\n",
       "      <td>0</td>\n",
       "      <td>0</td>\n",
       "      <td>0</td>\n",
       "      <td>1</td>\n",
       "      <td>47</td>\n",
       "      <td>1</td>\n",
       "      <td>0</td>\n",
       "      <td>0</td>\n",
       "      <td>0</td>\n",
       "      <td>0</td>\n",
       "      <td>0</td>\n",
       "      <td>1</td>\n",
       "    </tr>\n",
       "    <tr>\n",
       "      <th>2</th>\n",
       "      <td>0</td>\n",
       "      <td>0</td>\n",
       "      <td>0</td>\n",
       "      <td>3</td>\n",
       "      <td>0</td>\n",
       "      <td>1</td>\n",
       "      <td>1</td>\n",
       "      <td>30</td>\n",
       "      <td>0</td>\n",
       "      <td>0</td>\n",
       "      <td>0</td>\n",
       "      <td>0</td>\n",
       "      <td>0</td>\n",
       "      <td>1</td>\n",
       "      <td>1</td>\n",
       "    </tr>\n",
       "    <tr>\n",
       "      <th>3</th>\n",
       "      <td>0</td>\n",
       "      <td>0</td>\n",
       "      <td>0</td>\n",
       "      <td>2</td>\n",
       "      <td>0</td>\n",
       "      <td>0</td>\n",
       "      <td>1</td>\n",
       "      <td>32</td>\n",
       "      <td>1</td>\n",
       "      <td>1</td>\n",
       "      <td>1</td>\n",
       "      <td>0</td>\n",
       "      <td>0</td>\n",
       "      <td>1</td>\n",
       "      <td>1</td>\n",
       "    </tr>\n",
       "    <tr>\n",
       "      <th>4</th>\n",
       "      <td>0</td>\n",
       "      <td>0</td>\n",
       "      <td>0</td>\n",
       "      <td>2</td>\n",
       "      <td>0</td>\n",
       "      <td>0</td>\n",
       "      <td>2</td>\n",
       "      <td>41</td>\n",
       "      <td>0</td>\n",
       "      <td>0</td>\n",
       "      <td>1</td>\n",
       "      <td>0</td>\n",
       "      <td>1</td>\n",
       "      <td>1</td>\n",
       "      <td>1</td>\n",
       "    </tr>\n",
       "  </tbody>\n",
       "</table>\n",
       "</div>"
      ],
      "text/plain": [
       "   PRODUCTO  TIPO_CARROCERIA  COMBUSTIBLE  FORMA_PAGO  ESTADO_CIVIL  GENERO  \\\n",
       "0         0                0            0           0             0       1   \n",
       "1         0                0            0           0             0       0   \n",
       "2         0                0            0           3             0       1   \n",
       "3         0                0            0           2             0       0   \n",
       "4         0                0            0           2             0       0   \n",
       "\n",
       "   OcupaciOn  PROVINCIA  REV_Garantia  QUEJA_CAC  Campanna1  Campanna2  \\\n",
       "0          1          4             0          1          1          0   \n",
       "1          1         47             1          0          0          0   \n",
       "2          1         30             0          0          0          0   \n",
       "3          1         32             1          1          1          0   \n",
       "4          2         41             0          0          1          0   \n",
       "\n",
       "   Campanna3  Mas_1_coche  TRANS  \n",
       "0          0            0      1  \n",
       "1          0            0      1  \n",
       "2          0            1      1  \n",
       "3          0            1      1  \n",
       "4          1            1      1  "
      ]
     },
     "execution_count": 34,
     "metadata": {},
     "output_type": "execute_result"
    }
   ],
   "source": [
    "label_cols = [\n",
    "    \"PRODUCTO\", \"TIPO_CARROCERIA\", \"COMBUSTIBLE\", \"FORMA_PAGO\", \"ESTADO_CIVIL\", \n",
    "    \"GENERO\", \"OcupaciOn\", \"PROVINCIA\", \"REV_Garantia\", \"QUEJA_CAC\", \n",
    "    \"Campanna1\", \"Campanna2\", \"Campanna3\", \"Mas_1_coche\", \"TRANS\"\n",
    "]\n",
    "\n",
    "label_encoders_v4 = {}\n",
    "\n",
    "for col in label_cols:\n",
    "    le = LabelEncoder()\n",
    "    df_clean_v4[col] = le.fit_transform(df_clean_v4[col])\n",
    "    label_encoders_v4[col] = le  # Guardamos el encoder por si necesitamos revertirlo\n",
    "\n",
    "df_clean_v4[label_cols].head()\n"
   ]
  },
  {
   "cell_type": "code",
   "execution_count": 35,
   "metadata": {},
   "outputs": [],
   "source": [
    "ordinal_encoder = OrdinalEncoder(categories=[\n",
    "    [\"Baja\", \"Media\", \"Alta\"],  # Potencia: 0, 1, 2\n",
    "    [\"No\", \"Averia leve\", \"Averia grave\", \"Averia muy grave\"],  # Averia_grave: 0, 1, 2, 3\n",
    "    [\"Otros\", \"Medio-Bajo\", \"Medio\", \"Alto\"] \n",
    "])\n",
    "\n",
    "df_clean_v4[[\"Potencia\", \"Averia_grave\", \"Zona_Renta\"]] = ordinal_encoder.fit_transform(\n",
    "    df_clean_v4[[\"Potencia\", \"Averia_grave\", \"Zona_Renta\"]]).astype(int)"
   ]
  },
  {
   "cell_type": "code",
   "execution_count": 36,
   "metadata": {},
   "outputs": [],
   "source": [
    "df_clean_v4.to_csv(os.path.join(processed_dir, \"Propensity_clean_v4.csv\"), index=False)"
   ]
  }
 ],
 "metadata": {
  "kernelspec": {
   "display_name": "Python 3",
   "language": "python",
   "name": "python3"
  },
  "language_info": {
   "codemirror_mode": {
    "name": "ipython",
    "version": 3
   },
   "file_extension": ".py",
   "mimetype": "text/x-python",
   "name": "python",
   "nbconvert_exporter": "python",
   "pygments_lexer": "ipython3",
   "version": "3.12.6"
  }
 },
 "nbformat": 4,
 "nbformat_minor": 2
}
